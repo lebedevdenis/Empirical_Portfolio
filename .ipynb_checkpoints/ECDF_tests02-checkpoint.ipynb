{
 "cells": [
  {
   "cell_type": "markdown",
   "metadata": {},
   "source": [
    "Testing Empirical cumulative distribution in 2-D"
   ]
  },
  {
   "cell_type": "code",
   "execution_count": 135,
   "metadata": {},
   "outputs": [
    {
     "name": "stdout",
     "output_type": "stream",
     "text": [
      "0.04463759025022604 0.027415058382916548\n"
     ]
    },
    {
     "data": {
      "image/png": "[encoded data removed]",
      "text/plain": [
       "<Figure size 432x288 with 1 Axes>"
      ]
     },
     "metadata": {
      "needs_background": "light"
     },
     "output_type": "display_data"
    }
   ],
   "source": [
    "import numpy as np\n",
    "import matplotlib.pyplot as plt\n",
    "from matplotlib import cm\n",
    "import matplotlib.colors as colors\n",
    "\n",
    "n=100 #number data points\n",
    "mean=[0.056,0.029] #mean\n",
    "cov=[[0.0225,-0.0038],[-0.0038,0.0016]] #covariance matrix\n",
    "x1,x2=np.random.multivariate_normal(mean,cov,n).T\n",
    "ax1 = plt.scatter(x1,x2)\n",
    "ax1 =plt.plot([-0.5,0.5],[0.5,-0.5],'r')\n",
    "plt.gca().set_aspect('equal', adjustable='box')\n",
    "mean_x1 = np.mean(x1)\n",
    "mean_x2 = np.mean(x2)\n",
    "print(mean_x1,mean_x2)"
   ]
  },
  {
   "cell_type": "code",
   "execution_count": 139,
   "metadata": {},
   "outputs": [
    {
     "name": "stdout",
     "output_type": "stream",
     "text": [
      "0.6 True\n",
      "0.6157894736842106 True\n",
      "0.631578947368421 True\n",
      "0.6473684210526316 True\n",
      "0.6631578947368421 True\n",
      "0.6789473684210526 True\n",
      "0.6947368421052631 True\n",
      "0.7105263157894737 True\n",
      "0.7263157894736842 True\n",
      "0.7421052631578947 True\n",
      "0.7578947368421053 True\n",
      "0.7736842105263158 True\n",
      "0.7894736842105263 True\n",
      "0.8052631578947369 True\n",
      "0.8210526315789474 True\n",
      "0.8368421052631579 True\n",
      "0.8526315789473684 True\n",
      "0.868421052631579 True\n",
      "0.8842105263157896 False\n",
      "0.9 False\n"
     ]
    },
    {
     "data": {
      "text/plain": [
       "[<matplotlib.lines.Line2D at 0x1865805ba88>]"
      ]
     },
     "execution_count": 139,
     "metadata": {},
     "output_type": "execute_result"
    },
    {
     "data": {
      "image/png": "[encoded data removed]",
      "text/plain": [
       "<Figure size 432x288 with 1 Axes>"
      ]
     },
     "metadata": {
      "needs_background": "light"
     },
     "output_type": "display_data"
    }
   ],
   "source": [
    "#Let's build a MILP\n",
    "from mip import *\n",
    "\n",
    "def myopt(alpha):\n",
    "    d=2 #2-dimensional problem\n",
    "    #alpha = 0.70 #significance level\n",
    "    n_activeCon = np.ceil(n*alpha) #number of active constraints\n",
    "    VaR = 0.0\n",
    "\n",
    "    boundary = 10**6\n",
    "\n",
    "    m = Model(solver_name=CBC)\n",
    "    w = [ m.add_var(var_type=CONTINUOUS) for dd in range(d) ]\n",
    "    z = [ m.add_var(var_type=BINARY) for nn in range(n) ] #deactivation switches\n",
    "\n",
    "\n",
    "    #objective\n",
    "    m.objective = minimize(-(w[0]*mean_x1+w[1]*mean_x2))\n",
    "\n",
    "    #constaints\n",
    "    m += xsum(w[dd] for dd in range(d)) == 1\n",
    "    m += xsum(z[nn] for nn in range(n)) == (n-n_activeCon)\n",
    "\n",
    "    for nn in range(n):\n",
    "        m += w[0]*x1[nn]+w[1]*x2[nn] >= (VaR - z[nn]*boundary) #VaR constraint\n",
    "    \n",
    "    m += \n",
    "    #obtain model summary\n",
    "    #m.write('model.lp')\n",
    "    #m.read('model.lp')\n",
    "    #print('model has {} vars, {} constraints and {} nzs'.format(m.num_cols, m.num_rows, m.num_nz))\n",
    "\n",
    "    # optimizing\n",
    "    status = m.optimize()\n",
    "    print(alpha, status == OptimizationStatus.OPTIMAL)\n",
    "    return m.vars[0].x\n",
    "\n",
    "k = 20\n",
    "\n",
    "alphas=np.linspace(0.6,0.9,k)\n",
    "w0Star=np.zeros(k)\n",
    "\n",
    "for i in range(k):\n",
    "    w0Star[i] = myopt(alphas[i])\n",
    "\n",
    "plt.plot(alphas,w0Star)"
   ]
  },
  {
   "cell_type": "code",
   "execution_count": 133,
   "metadata": {},
   "outputs": [
    {
     "name": "stdout",
     "output_type": "stream",
     "text": [
      "0.042687228905083856\n"
     ]
    },
    {
     "data": {
      "text/plain": [
       "0.5606286767933971"
      ]
     },
     "execution_count": 133,
     "metadata": {},
     "output_type": "execute_result"
    }
   ],
   "source": [
    "print(-m.objective_value)\n",
    "#for v in m.vars:\n",
    "#       print('{} : {}'.format(v.name, v.x))\n",
    "\n",
    "m.vars[0].x\n"
   ]
  },
  {
   "cell_type": "code",
   "execution_count": null,
   "metadata": {},
   "outputs": [],
   "source": []
  }
 ],
 "metadata": {
  "kernelspec": {
   "display_name": "Python 3",
   "language": "python",
   "name": "python3"
  },
  "language_info": {
   "codemirror_mode": {
    "name": "ipython",
    "version": 3
   },
   "file_extension": ".py",
   "mimetype": "text/x-python",
   "name": "python",
   "nbconvert_exporter": "python",
   "pygments_lexer": "ipython3",
   "version": "3.7.9"
  }
 },
 "nbformat": 4,
 "nbformat_minor": 4
}
