{
 "cells": [
  {
   "cell_type": "markdown",
   "metadata": {},
   "source": [
    "Testing Empirical cumulative distribution in 2-D"
   ]
  },
  {
   "cell_type": "code",
   "execution_count": 126,
   "metadata": {},
   "outputs": [
    {
     "data": {
      "text/html": [
       "<div>\n",
       "<style scoped>\n",
       "    .dataframe tbody tr th:only-of-type {\n",
       "        vertical-align: middle;\n",
       "    }\n",
       "\n",
       "    .dataframe tbody tr th {\n",
       "        vertical-align: top;\n",
       "    }\n",
       "\n",
       "    .dataframe thead th {\n",
       "        text-align: right;\n",
       "    }\n",
       "</style>\n",
       "<table border=\"1\" class=\"dataframe\">\n",
       "  <thead>\n",
       "    <tr style=\"text-align: right;\">\n",
       "      <th></th>\n",
       "      <th>Date</th>\n",
       "      <th>Close</th>\n",
       "    </tr>\n",
       "  </thead>\n",
       "  <tbody>\n",
       "    <tr>\n",
       "      <th>0</th>\n",
       "      <td>1960-01-04</td>\n",
       "      <td>59.910000</td>\n",
       "    </tr>\n",
       "    <tr>\n",
       "      <th>1</th>\n",
       "      <td>1960-01-05</td>\n",
       "      <td>60.389999</td>\n",
       "    </tr>\n",
       "    <tr>\n",
       "      <th>2</th>\n",
       "      <td>1960-01-06</td>\n",
       "      <td>60.130001</td>\n",
       "    </tr>\n",
       "    <tr>\n",
       "      <th>3</th>\n",
       "      <td>1960-01-07</td>\n",
       "      <td>59.689999</td>\n",
       "    </tr>\n",
       "    <tr>\n",
       "      <th>4</th>\n",
       "      <td>1960-01-08</td>\n",
       "      <td>59.500000</td>\n",
       "    </tr>\n",
       "  </tbody>\n",
       "</table>\n",
       "</div>"
      ],
      "text/plain": [
       "         Date      Close\n",
       "0  1960-01-04  59.910000\n",
       "1  1960-01-05  60.389999\n",
       "2  1960-01-06  60.130001\n",
       "3  1960-01-07  59.689999\n",
       "4  1960-01-08  59.500000"
      ]
     },
     "execution_count": 126,
     "metadata": {},
     "output_type": "execute_result"
    },
    {
     "name": "stdout",
     "output_type": "stream",
     "text": [
      "Check for nan values:\n",
      "0\n",
      "0\n"
     ]
    }
   ],
   "source": [
    "import numpy as np\n",
    "import matplotlib.pyplot as plt\n",
    "from matplotlib import cm\n",
    "import matplotlib.colors as colors\n",
    "import pandas as pd\n",
    "\n",
    "df_sp500 = pd.read_csv('C:/Users/worc3920/Documents/GitHub/EmpiricalPortfolio/gspc.csv')\n",
    "df_sp500 = df_sp500[[\"Date\",\"Close\"]]\n",
    "df_sp500_copy = pd.DataFrame()\n",
    "\n",
    "j=0\n",
    "for i in range(len(df_sp500)):\n",
    "    if np.int(df_sp500.loc[i,\"Date\"][:4]) >= 1960:\n",
    "        df_sp500_copy.loc[j,\"Date\"] = df_sp500.loc[i,\"Date\"]\n",
    "        df_sp500_copy.loc[j,\"Close\"] = df_sp500.loc[i,\"Close\"]\n",
    "        j+= 1\n",
    "df_sp500_copy.head()\n",
    "\n",
    "\n",
    "df_13w = pd.read_csv('C:/Users/worc3920/Documents/GitHub/EmpiricalPortfolio/irx.csv')\n",
    "df_13w = df_13w[[\"Date\",\"Close\"]]\n",
    "\n",
    "def neighborImputer(df):\n",
    "    for i in range(1,len(df)-1):\n",
    "        if np.isnan(df.loc[i,\"Close\"]):            \n",
    "            df.loc[i,\"Close\"] = df.loc[i-1,\"Close\"]\n",
    "    return df\n",
    "\n",
    "def weekendImputer(df_part,df_complete):\n",
    "    df_ret = df_complete.copy()\n",
    "    df_ret[\"Close\"]=np.nan\n",
    "    for i in range(len(df_part)):\n",
    "        df_ret.loc[df_ret[\"Date\"]==df_part.loc[i,\"Date\"],\"Close\"]=df_part.loc[i,\"Close\"]\n",
    "        \n",
    "    for i in range(1,len(df_ret)-1):\n",
    "        if np.isnan(df_ret.loc[i,\"Close\"]):\n",
    "            df_ret.loc[i,\"Close\"] = df_ret.loc[i-1,\"Close\"]\n",
    "    return df_ret\n",
    "\n",
    "df_13w = neighborImputer(df_13w)\n",
    "df_sp500_copy = weekendImputer(df_sp500,df_13w)\n",
    "print(\"Check for nan values:\")\n",
    "print(np.isnan(df_13w[\"Close\"]).sum())\n",
    "print(np.isnan(df_sp500_copy[\"Close\"]).sum())"
   ]
  },
  {
   "cell_type": "code",
   "execution_count": 127,
   "metadata": {},
   "outputs": [
    {
     "name": "stdout",
     "output_type": "stream",
     "text": [
      "18986\n",
      "18986\n"
     ]
    },
    {
     "data": {
      "text/html": [
       "<div>\n",
       "<style scoped>\n",
       "    .dataframe tbody tr th:only-of-type {\n",
       "        vertical-align: middle;\n",
       "    }\n",
       "\n",
       "    .dataframe tbody tr th {\n",
       "        vertical-align: top;\n",
       "    }\n",
       "\n",
       "    .dataframe thead th {\n",
       "        text-align: right;\n",
       "    }\n",
       "</style>\n",
       "<table border=\"1\" class=\"dataframe\">\n",
       "  <thead>\n",
       "    <tr style=\"text-align: right;\">\n",
       "      <th></th>\n",
       "      <th>Close</th>\n",
       "    </tr>\n",
       "  </thead>\n",
       "  <tbody>\n",
       "    <tr>\n",
       "      <th>count</th>\n",
       "      <td>18986.000000</td>\n",
       "    </tr>\n",
       "    <tr>\n",
       "      <th>mean</th>\n",
       "      <td>732.573815</td>\n",
       "    </tr>\n",
       "    <tr>\n",
       "      <th>std</th>\n",
       "      <td>805.424991</td>\n",
       "    </tr>\n",
       "    <tr>\n",
       "      <th>min</th>\n",
       "      <td>52.200001</td>\n",
       "    </tr>\n",
       "    <tr>\n",
       "      <th>25%</th>\n",
       "      <td>100.442501</td>\n",
       "    </tr>\n",
       "    <tr>\n",
       "      <th>50%</th>\n",
       "      <td>339.569992</td>\n",
       "    </tr>\n",
       "    <tr>\n",
       "      <th>75%</th>\n",
       "      <td>1213.587494</td>\n",
       "    </tr>\n",
       "    <tr>\n",
       "      <th>max</th>\n",
       "      <td>3851.850098</td>\n",
       "    </tr>\n",
       "  </tbody>\n",
       "</table>\n",
       "</div>"
      ],
      "text/plain": [
       "              Close\n",
       "count  18986.000000\n",
       "mean     732.573815\n",
       "std      805.424991\n",
       "min       52.200001\n",
       "25%      100.442501\n",
       "50%      339.569992\n",
       "75%     1213.587494\n",
       "max     3851.850098"
      ]
     },
     "execution_count": 127,
     "metadata": {},
     "output_type": "execute_result"
    },
    {
     "data": {
      "text/html": [
       "<div>\n",
       "<style scoped>\n",
       "    .dataframe tbody tr th:only-of-type {\n",
       "        vertical-align: middle;\n",
       "    }\n",
       "\n",
       "    .dataframe tbody tr th {\n",
       "        vertical-align: top;\n",
       "    }\n",
       "\n",
       "    .dataframe thead th {\n",
       "        text-align: right;\n",
       "    }\n",
       "</style>\n",
       "<table border=\"1\" class=\"dataframe\">\n",
       "  <thead>\n",
       "    <tr style=\"text-align: right;\">\n",
       "      <th></th>\n",
       "      <th>Close</th>\n",
       "    </tr>\n",
       "  </thead>\n",
       "  <tbody>\n",
       "    <tr>\n",
       "      <th>count</th>\n",
       "      <td>18986.000000</td>\n",
       "    </tr>\n",
       "    <tr>\n",
       "      <th>mean</th>\n",
       "      <td>4.480252</td>\n",
       "    </tr>\n",
       "    <tr>\n",
       "      <th>std</th>\n",
       "      <td>3.176864</td>\n",
       "    </tr>\n",
       "    <tr>\n",
       "      <th>min</th>\n",
       "      <td>-0.105000</td>\n",
       "    </tr>\n",
       "    <tr>\n",
       "      <th>25%</th>\n",
       "      <td>2.168000</td>\n",
       "    </tr>\n",
       "    <tr>\n",
       "      <th>50%</th>\n",
       "      <td>4.590000</td>\n",
       "    </tr>\n",
       "    <tr>\n",
       "      <th>75%</th>\n",
       "      <td>6.090000</td>\n",
       "    </tr>\n",
       "    <tr>\n",
       "      <th>max</th>\n",
       "      <td>17.139999</td>\n",
       "    </tr>\n",
       "  </tbody>\n",
       "</table>\n",
       "</div>"
      ],
      "text/plain": [
       "              Close\n",
       "count  18986.000000\n",
       "mean       4.480252\n",
       "std        3.176864\n",
       "min       -0.105000\n",
       "25%        2.168000\n",
       "50%        4.590000\n",
       "75%        6.090000\n",
       "max       17.139999"
      ]
     },
     "execution_count": 127,
     "metadata": {},
     "output_type": "execute_result"
    }
   ],
   "source": [
    "from IPython.core.interactiveshell import InteractiveShell\n",
    "InteractiveShell.ast_node_interactivity = \"all\"\n",
    "\n",
    "print(len(df_sp500_copy))\n",
    "print(len(df_13w))\n",
    "df_sp500_copy.describe()\n",
    "df_13w.describe()"
   ]
  },
  {
   "cell_type": "code",
   "execution_count": 128,
   "metadata": {},
   "outputs": [
    {
     "name": "stdout",
     "output_type": "stream",
     "text": [
      "0\n",
      "0\n"
     ]
    }
   ],
   "source": [
    "def get1yReturn(df,ident):\n",
    "    df2=pd.DataFrame()\n",
    "    df2[\"Date\"]=df[\"Date\"].copy()\n",
    "    for i in range(len(df) - 365):\n",
    "        df2.loc[i,\"return_\"+ident] = df.loc[i+365,\"Close\"]/df.loc[i,\"Close\"]-1\n",
    "    return df2.loc[0:len(df2)-366,:]       \n",
    "\n",
    "df_13w_2 = get1yReturn(df_13w,\"13w\")\n",
    "df_sp500_2 = get1yReturn(df_sp500_copy,\"sp500\")\n",
    "\n",
    "print(np.isnan(df_13w_2[\"return_13w\"]).sum())\n",
    "print(np.isnan(df_sp500_2[\"return_sp500\"]).sum())"
   ]
  },
  {
   "cell_type": "code",
   "execution_count": 129,
   "metadata": {},
   "outputs": [
    {
     "data": {
      "text/html": [
       "<div>\n",
       "<style scoped>\n",
       "    .dataframe tbody tr th:only-of-type {\n",
       "        vertical-align: middle;\n",
       "    }\n",
       "\n",
       "    .dataframe tbody tr th {\n",
       "        vertical-align: top;\n",
       "    }\n",
       "\n",
       "    .dataframe thead th {\n",
       "        text-align: right;\n",
       "    }\n",
       "</style>\n",
       "<table border=\"1\" class=\"dataframe\">\n",
       "  <thead>\n",
       "    <tr style=\"text-align: right;\">\n",
       "      <th></th>\n",
       "      <th>Date</th>\n",
       "      <th>return_13w</th>\n",
       "    </tr>\n",
       "  </thead>\n",
       "  <tbody>\n",
       "    <tr>\n",
       "      <th>18616</th>\n",
       "      <td>2019-11-01</td>\n",
       "      <td>-0.949495</td>\n",
       "    </tr>\n",
       "    <tr>\n",
       "      <th>18617</th>\n",
       "      <td>2019-11-03</td>\n",
       "      <td>-0.949495</td>\n",
       "    </tr>\n",
       "    <tr>\n",
       "      <th>18618</th>\n",
       "      <td>2019-11-04</td>\n",
       "      <td>-0.950100</td>\n",
       "    </tr>\n",
       "    <tr>\n",
       "      <th>18619</th>\n",
       "      <td>2019-11-05</td>\n",
       "      <td>-0.951910</td>\n",
       "    </tr>\n",
       "    <tr>\n",
       "      <th>18620</th>\n",
       "      <td>2019-11-06</td>\n",
       "      <td>-0.950495</td>\n",
       "    </tr>\n",
       "  </tbody>\n",
       "</table>\n",
       "</div>"
      ],
      "text/plain": [
       "             Date  return_13w\n",
       "18616  2019-11-01   -0.949495\n",
       "18617  2019-11-03   -0.949495\n",
       "18618  2019-11-04   -0.950100\n",
       "18619  2019-11-05   -0.951910\n",
       "18620  2019-11-06   -0.950495"
      ]
     },
     "execution_count": 129,
     "metadata": {},
     "output_type": "execute_result"
    },
    {
     "data": {
      "text/html": [
       "<div>\n",
       "<style scoped>\n",
       "    .dataframe tbody tr th:only-of-type {\n",
       "        vertical-align: middle;\n",
       "    }\n",
       "\n",
       "    .dataframe tbody tr th {\n",
       "        vertical-align: top;\n",
       "    }\n",
       "\n",
       "    .dataframe thead th {\n",
       "        text-align: right;\n",
       "    }\n",
       "</style>\n",
       "<table border=\"1\" class=\"dataframe\">\n",
       "  <thead>\n",
       "    <tr style=\"text-align: right;\">\n",
       "      <th></th>\n",
       "      <th>Date</th>\n",
       "      <th>return_sp500</th>\n",
       "    </tr>\n",
       "  </thead>\n",
       "  <tbody>\n",
       "    <tr>\n",
       "      <th>18616</th>\n",
       "      <td>2019-11-01</td>\n",
       "      <td>0.237578</td>\n",
       "    </tr>\n",
       "    <tr>\n",
       "      <th>18617</th>\n",
       "      <td>2019-11-03</td>\n",
       "      <td>0.228680</td>\n",
       "    </tr>\n",
       "    <tr>\n",
       "      <th>18618</th>\n",
       "      <td>2019-11-04</td>\n",
       "      <td>0.224145</td>\n",
       "    </tr>\n",
       "    <tr>\n",
       "      <th>18619</th>\n",
       "      <td>2019-11-05</td>\n",
       "      <td>0.235570</td>\n",
       "    </tr>\n",
       "    <tr>\n",
       "      <th>18620</th>\n",
       "      <td>2019-11-06</td>\n",
       "      <td>0.251909</td>\n",
       "    </tr>\n",
       "  </tbody>\n",
       "</table>\n",
       "</div>"
      ],
      "text/plain": [
       "             Date  return_sp500\n",
       "18616  2019-11-01      0.237578\n",
       "18617  2019-11-03      0.228680\n",
       "18618  2019-11-04      0.224145\n",
       "18619  2019-11-05      0.235570\n",
       "18620  2019-11-06      0.251909"
      ]
     },
     "execution_count": 129,
     "metadata": {},
     "output_type": "execute_result"
    },
    {
     "data": {
      "text/html": [
       "<div>\n",
       "<style scoped>\n",
       "    .dataframe tbody tr th:only-of-type {\n",
       "        vertical-align: middle;\n",
       "    }\n",
       "\n",
       "    .dataframe tbody tr th {\n",
       "        vertical-align: top;\n",
       "    }\n",
       "\n",
       "    .dataframe thead th {\n",
       "        text-align: right;\n",
       "    }\n",
       "</style>\n",
       "<table border=\"1\" class=\"dataframe\">\n",
       "  <thead>\n",
       "    <tr style=\"text-align: right;\">\n",
       "      <th></th>\n",
       "      <th>return_sp500</th>\n",
       "    </tr>\n",
       "  </thead>\n",
       "  <tbody>\n",
       "    <tr>\n",
       "      <th>count</th>\n",
       "      <td>18621.000000</td>\n",
       "    </tr>\n",
       "    <tr>\n",
       "      <th>mean</th>\n",
       "      <td>0.096776</td>\n",
       "    </tr>\n",
       "    <tr>\n",
       "      <th>std</th>\n",
       "      <td>0.170244</td>\n",
       "    </tr>\n",
       "    <tr>\n",
       "      <th>min</th>\n",
       "      <td>-0.547910</td>\n",
       "    </tr>\n",
       "    <tr>\n",
       "      <th>25%</th>\n",
       "      <td>-0.003127</td>\n",
       "    </tr>\n",
       "    <tr>\n",
       "      <th>50%</th>\n",
       "      <td>0.110502</td>\n",
       "    </tr>\n",
       "    <tr>\n",
       "      <th>75%</th>\n",
       "      <td>0.209588</td>\n",
       "    </tr>\n",
       "    <tr>\n",
       "      <th>max</th>\n",
       "      <td>0.678821</td>\n",
       "    </tr>\n",
       "  </tbody>\n",
       "</table>\n",
       "</div>"
      ],
      "text/plain": [
       "       return_sp500\n",
       "count  18621.000000\n",
       "mean       0.096776\n",
       "std        0.170244\n",
       "min       -0.547910\n",
       "25%       -0.003127\n",
       "50%        0.110502\n",
       "75%        0.209588\n",
       "max        0.678821"
      ]
     },
     "execution_count": 129,
     "metadata": {},
     "output_type": "execute_result"
    },
    {
     "data": {
      "text/html": [
       "<div>\n",
       "<style scoped>\n",
       "    .dataframe tbody tr th:only-of-type {\n",
       "        vertical-align: middle;\n",
       "    }\n",
       "\n",
       "    .dataframe tbody tr th {\n",
       "        vertical-align: top;\n",
       "    }\n",
       "\n",
       "    .dataframe thead th {\n",
       "        text-align: right;\n",
       "    }\n",
       "</style>\n",
       "<table border=\"1\" class=\"dataframe\">\n",
       "  <thead>\n",
       "    <tr style=\"text-align: right;\">\n",
       "      <th></th>\n",
       "      <th>return_13w</th>\n",
       "    </tr>\n",
       "  </thead>\n",
       "  <tbody>\n",
       "    <tr>\n",
       "      <th>count</th>\n",
       "      <td>18621.000000</td>\n",
       "    </tr>\n",
       "    <tr>\n",
       "      <th>mean</th>\n",
       "      <td>0.881853</td>\n",
       "    </tr>\n",
       "    <tr>\n",
       "      <th>std</th>\n",
       "      <td>6.995401</td>\n",
       "    </tr>\n",
       "    <tr>\n",
       "      <th>min</th>\n",
       "      <td>-1.044304</td>\n",
       "    </tr>\n",
       "    <tr>\n",
       "      <th>25%</th>\n",
       "      <td>-0.272267</td>\n",
       "    </tr>\n",
       "    <tr>\n",
       "      <th>50%</th>\n",
       "      <td>0.011928</td>\n",
       "    </tr>\n",
       "    <tr>\n",
       "      <th>75%</th>\n",
       "      <td>0.308046</td>\n",
       "    </tr>\n",
       "    <tr>\n",
       "      <th>max</th>\n",
       "      <td>172.333333</td>\n",
       "    </tr>\n",
       "  </tbody>\n",
       "</table>\n",
       "</div>"
      ],
      "text/plain": [
       "         return_13w\n",
       "count  18621.000000\n",
       "mean       0.881853\n",
       "std        6.995401\n",
       "min       -1.044304\n",
       "25%       -0.272267\n",
       "50%        0.011928\n",
       "75%        0.308046\n",
       "max      172.333333"
      ]
     },
     "execution_count": 129,
     "metadata": {},
     "output_type": "execute_result"
    },
    {
     "data": {
      "text/plain": [
       "18617    3066.909912\n",
       "Name: Close, dtype: float64"
      ]
     },
     "execution_count": 129,
     "metadata": {},
     "output_type": "execute_result"
    },
    {
     "data": {
      "text/plain": [
       "18922    3369.159912\n",
       "Name: Close, dtype: float64"
      ]
     },
     "execution_count": 129,
     "metadata": {},
     "output_type": "execute_result"
    }
   ],
   "source": [
    "from IPython.core.interactiveshell import InteractiveShell\n",
    "InteractiveShell.ast_node_interactivity = \"all\"\n",
    "\n",
    "df_13w_2.tail()\n",
    "df_sp500_2.tail()\n",
    "df_sp500_2.describe()\n",
    "df_13w_2.describe()\n",
    "df_sp500_copy.loc[df_sp500_copy[\"Date\"]=='2019-11-03',\"Close\"]\n",
    "df_sp500_copy.loc[df_sp500_copy[\"Date\"]=='2020-11-03',\"Close\"]"
   ]
  },
  {
   "cell_type": "code",
   "execution_count": 114,
   "metadata": {},
   "outputs": [
    {
     "name": "stdout",
     "output_type": "stream",
     "text": [
      "0\n",
      "0\n",
      "17372\n",
      "17394\n",
      "2015-09-29\n",
      "2015-10-25\n"
     ]
    }
   ],
   "source": [
    "#df = df_sp500_2.join(df_13w_2.set_index('Date'), on='Date')\n",
    "print(np.isnan(df[\"return_13w\"]).sum())\n",
    "print(np.isnan(df[\"return_sp500\"]).sum())\n",
    "df.describe()\n",
    "print(np.argmax(df[\"return_13w\"]))\n",
    "print(np.argmax(df[\"return_sp500\"]))\n",
    "print(df.loc[17372,\"Date\"])\n",
    "print(df.loc[17394,\"Date\"])"
   ]
  },
  {
   "cell_type": "code",
   "execution_count": 133,
   "metadata": {},
   "outputs": [
    {
     "data": {
      "text/plain": [
       "17372    0.003\n",
       "Name: Close, dtype: float64"
      ]
     },
     "execution_count": 133,
     "metadata": {},
     "output_type": "execute_result"
    },
    {
     "data": {
      "text/plain": [
       "17679    0.235\n",
       "Name: Close, dtype: float64"
      ]
     },
     "execution_count": 133,
     "metadata": {},
     "output_type": "execute_result"
    },
    {
     "data": {
      "text/plain": [
       "17371    0.013\n",
       "Name: Close, dtype: float64"
      ]
     },
     "execution_count": 133,
     "metadata": {},
     "output_type": "execute_result"
    },
    {
     "data": {
      "text/plain": [
       "17372    0.003\n",
       "Name: Close, dtype: float64"
      ]
     },
     "execution_count": 133,
     "metadata": {},
     "output_type": "execute_result"
    },
    {
     "data": {
      "text/plain": [
       "17373    0.005\n",
       "Name: Close, dtype: float64"
      ]
     },
     "execution_count": 133,
     "metadata": {},
     "output_type": "execute_result"
    }
   ],
   "source": [
    "df_13w.loc[df_13w[\"Date\"]==\"2015-09-29\",\"Close\"]\n",
    "df_13w.loc[df_13w[\"Date\"]==\"2016-09-29\",\"Close\"]\n",
    "\n",
    "df_13w.loc[df_13w[\"Date\"]==\"2015-09-28\",\"Close\"]\n",
    "df_13w.loc[df_13w[\"Date\"]==\"2015-09-29\",\"Close\"]\n",
    "df_13w.loc[df_13w[\"Date\"]==\"2015-09-30\",\"Close\"]\n",
    "\n",
    "from IPython.core.interactiveshell import InteractiveShell\n",
    "InteractiveShell.ast_node_interactivity = 'last_expr'"
   ]
  },
  {
   "cell_type": "code",
   "execution_count": 107,
   "metadata": {},
   "outputs": [
    {
     "data": {
      "image/png": "[encoded data removed]",
      "text/plain": [
       "<Figure size 432x288 with 1 Axes>"
      ]
     },
     "metadata": {
      "needs_background": "light"
     },
     "output_type": "display_data"
    },
    {
     "data": {
      "image/png": "[encoded data removed]",
      "text/plain": [
       "<Figure size 432x288 with 1 Axes>"
      ]
     },
     "metadata": {
      "needs_background": "light"
     },
     "output_type": "display_data"
    }
   ],
   "source": [
    "def getEmpiricalDensity(df,ident):\n",
    "    df[\"value\"]=df[\"return_\"+ident]\n",
    "    # Frequency\n",
    "    stats_df = df \\\n",
    "    .groupby('value') \\\n",
    "    ['value'] \\\n",
    "    .agg('count') \\\n",
    "    .pipe(pd.DataFrame) \\\n",
    "    .rename(columns = {'value': 'frequency'})\n",
    "\n",
    "    # PDF\n",
    "    stats_df['pdf'] = stats_df['frequency'] / sum(stats_df['frequency'])\n",
    "\n",
    "    # CDF\n",
    "    stats_df['cdf'] = stats_df['pdf'].cumsum()\n",
    "    stats_df = stats_df.reset_index()\n",
    "    \n",
    "    # Plot\n",
    "    #stats_df.plot(x = 'value', y = 'pdf', grid = True)\n",
    "    stats_df.plot(x = 'value', y = 'cdf', grid = True)\n",
    "\n",
    "getEmpiricalDensity(df_13w_2,\"13w\")\n",
    "getEmpiricalDensity(df_sp500_2,\"sp500\")"
   ]
  },
  {
   "cell_type": "code",
   "execution_count": 108,
   "metadata": {},
   "outputs": [
    {
     "name": "stdout",
     "output_type": "stream",
     "text": [
      "-1.0000222196678203\n"
     ]
    },
    {
     "data": {
      "image/png": "[encoded data removed]",
      "text/plain": [
       "<Figure size 432x288 with 1 Axes>"
      ]
     },
     "metadata": {
      "needs_background": "light"
     },
     "output_type": "display_data"
    }
   ],
   "source": [
    "x1 = df[\"return_sp500\"].to_numpy()\n",
    "x2 = df[\"return_13w\"].to_numpy()\n",
    "\n",
    "print(np.min(x1))\n",
    "ax1 = plt.scatter(x1,x2)\n",
    "#ax1 =plt.plot([-0.5,0.5],[0.5,-0.5],'r')\n",
    "#plt.gca().set_aspect('equal', adjustable='box')"
   ]
  },
  {
   "cell_type": "code",
   "execution_count": 151,
   "metadata": {},
   "outputs": [
    {
     "data": {
      "image/png": "[encoded data removed]",
      "text/plain": [
       "<Figure size 432x288 with 1 Axes>"
      ]
     },
     "metadata": {
      "needs_background": "light"
     },
     "output_type": "display_data"
    }
   ],
   "source": [
    "#Let's build a MILP\n",
    "from mip import *\n",
    "\n",
    "def myopt(alpha):\n",
    "    d=2 #2-dimensional problem\n",
    "    #alpha = 0.70 #significance level\n",
    "    n_activeCon = np.ceil(n*alpha) #number of active constraints\n",
    "    VaR = 0.0\n",
    "\n",
    "    boundary = 10**6\n",
    "\n",
    "    m = Model(solver_name=CBC)\n",
    "    w = [ m.add_var(var_type=CONTINUOUS) for dd in range(d) ]\n",
    "    z = [ m.add_var(var_type=BINARY) for nn in range(n) ] #deactivation switches\n",
    "\n",
    "\n",
    "    #objective\n",
    "    m.objective = minimize(-(w[0]*mean_x1+w[1]*mean_x2))\n",
    "\n",
    "    #constaints\n",
    "    m += xsum(w[dd] for dd in range(d)) == 1\n",
    "    m += xsum(z[nn] for nn in range(n)) == (n-n_activeCon)\n",
    "\n",
    "    for nn in range(n):\n",
    "        m += w[0]*x1[nn]+w[1]*x2[nn] >= (VaR - z[nn]*boundary) #VaR constraint\n",
    "    \n",
    "    #obtain model summary\n",
    "    #m.write('model.lp')\n",
    "    #m.read('model.lp')\n",
    "    #print('model has {} vars, {} constraints and {} nzs'.format(m.num_cols, m.num_rows, m.num_nz))\n",
    "\n",
    "    # optimizing\n",
    "    status = m.optimize()\n",
    "    if status != OptimizationStatus.OPTIMAL:\n",
    "        print(np.round(alpha,3), status)\n",
    "    return m.vars[0].x\n",
    "\n",
    "k = 10\n",
    "\n",
    "alphas=np.linspace(0.5,0.9,k)\n",
    "w0Star=np.zeros(k)\n",
    "\n",
    "for i in range(k):\n",
    "    w0Star[i] = myopt(alphas[i])\n",
    "\n",
    "ax2=plt.plot(alphas,w0Star)\n",
    "ax2=plt.plot(alphas,1-w0Star,'r')"
   ]
  },
  {
   "cell_type": "code",
   "execution_count": 133,
   "metadata": {},
   "outputs": [
    {
     "name": "stdout",
     "output_type": "stream",
     "text": [
      "0.042687228905083856\n"
     ]
    },
    {
     "data": {
      "text/plain": [
       "0.5606286767933971"
      ]
     },
     "execution_count": 133,
     "metadata": {},
     "output_type": "execute_result"
    }
   ],
   "source": [
    "print(-m.objective_value)\n",
    "#for v in m.vars:\n",
    "#       print('{} : {}'.format(v.name, v.x))\n",
    "\n",
    "m.vars[0].x"
   ]
  }
 ],
 "metadata": {
  "kernelspec": {
   "display_name": "Python 3",
   "language": "python",
   "name": "python3"
  },
  "language_info": {
   "codemirror_mode": {
    "name": "ipython",
    "version": 3
   },
   "file_extension": ".py",
   "mimetype": "text/x-python",
   "name": "python",
   "nbconvert_exporter": "python",
   "pygments_lexer": "ipython3",
   "version": "3.7.9"
  }
 },
 "nbformat": 4,
 "nbformat_minor": 4
}
