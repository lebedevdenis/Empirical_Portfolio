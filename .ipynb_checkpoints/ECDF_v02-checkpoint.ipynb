{
 "cells": [
  {
   "cell_type": "markdown",
   "metadata": {},
   "source": [
    "Testing Empirical cumulative distribution in 2-D"
   ]
  },
  {
   "cell_type": "code",
   "execution_count": 140,
   "metadata": {},
   "outputs": [
    {
     "data": {
      "text/html": [
       "<div>\n",
       "<style scoped>\n",
       "    .dataframe tbody tr th:only-of-type {\n",
       "        vertical-align: middle;\n",
       "    }\n",
       "\n",
       "    .dataframe tbody tr th {\n",
       "        vertical-align: top;\n",
       "    }\n",
       "\n",
       "    .dataframe thead th {\n",
       "        text-align: right;\n",
       "    }\n",
       "</style>\n",
       "<table border=\"1\" class=\"dataframe\">\n",
       "  <thead>\n",
       "    <tr style=\"text-align: right;\">\n",
       "      <th></th>\n",
       "      <th>Return_gspc</th>\n",
       "      <th>Return_gold</th>\n",
       "    </tr>\n",
       "  </thead>\n",
       "  <tbody>\n",
       "    <tr>\n",
       "      <th>count</th>\n",
       "      <td>18923.000000</td>\n",
       "      <td>18923.000000</td>\n",
       "    </tr>\n",
       "    <tr>\n",
       "      <th>mean</th>\n",
       "      <td>0.082139</td>\n",
       "      <td>0.104385</td>\n",
       "    </tr>\n",
       "    <tr>\n",
       "      <th>std</th>\n",
       "      <td>0.161644</td>\n",
       "      <td>0.275879</td>\n",
       "    </tr>\n",
       "    <tr>\n",
       "      <th>min</th>\n",
       "      <td>-0.488228</td>\n",
       "      <td>-0.422125</td>\n",
       "    </tr>\n",
       "    <tr>\n",
       "      <th>25%</th>\n",
       "      <td>-0.008728</td>\n",
       "      <td>-0.064313</td>\n",
       "    </tr>\n",
       "    <tr>\n",
       "      <th>50%</th>\n",
       "      <td>0.099072</td>\n",
       "      <td>0.050388</td>\n",
       "    </tr>\n",
       "    <tr>\n",
       "      <th>75%</th>\n",
       "      <td>0.187215</td>\n",
       "      <td>0.216055</td>\n",
       "    </tr>\n",
       "    <tr>\n",
       "      <th>max</th>\n",
       "      <td>0.685734</td>\n",
       "      <td>2.695652</td>\n",
       "    </tr>\n",
       "  </tbody>\n",
       "</table>\n",
       "</div>"
      ],
      "text/plain": [
       "        Return_gspc   Return_gold\n",
       "count  18923.000000  18923.000000\n",
       "mean       0.082139      0.104385\n",
       "std        0.161644      0.275879\n",
       "min       -0.488228     -0.422125\n",
       "25%       -0.008728     -0.064313\n",
       "50%        0.099072      0.050388\n",
       "75%        0.187215      0.216055\n",
       "max        0.685734      2.695652"
      ]
     },
     "execution_count": 140,
     "metadata": {},
     "output_type": "execute_result"
    }
   ],
   "source": [
    "import numpy as np\n",
    "import matplotlib.pyplot as plt\n",
    "from matplotlib import cm\n",
    "import matplotlib.colors as colors\n",
    "import pandas as pd\n",
    "import datetime\n",
    "import warnings\n",
    "\n",
    "\n",
    "def loadData(files, days=365):\n",
    "    \n",
    "    dataFrames_in = []\n",
    "    start_dates = []\n",
    "    end_dates =[]\n",
    "    \n",
    "    for file in files:\n",
    "        df_in = pd.read_csv('C:/Users/worc3920/Documents/GitHub/EmpiricalPortfolio/'+file+'.csv', usecols=[\"Date\",\"Close\"])\n",
    "        df_in = df_in.rename(columns={\"Close\": \"Close_\" + file})\n",
    "        df_in[\"Date\"]=pd.to_datetime(df_in[\"Date\"], infer_datetime_format=True)\n",
    "        dataFrames_in.append(df_in)\n",
    "        start_dates.append(df_in.loc[0,\"Date\"])\n",
    "        end_dates.append(df_in.loc[df_in.index[-1],\"Date\"])\n",
    "    \n",
    "    df_start = max(start_dates)\n",
    "    df_end = min(end_dates)\n",
    "    df = pd.DataFrame()\n",
    "    df[\"Date\"] = pd.date_range(start=df_start, end=df_end)\n",
    "    \n",
    "    for i in range(len(files)):\n",
    "        df = df.merge(dataFrames_in[i], on='Date', how='left')\n",
    "\n",
    "    for file in files:\n",
    "        for i in range(1,len(df)):    \n",
    "            if np.isnan(df.loc[i,\"Close_\" + file]):\n",
    "                df.loc[i, \"Close_\" + file] = df.loc[i-1, \"Close_\"+file]\n",
    "        for i in range(len(df)-days):\n",
    "            df.loc[i, \"Return_\" + file] = df.loc[i+days, \"Close_\"+file]/df.loc[i, \"Close_\"+file]-1\n",
    "    #drop last days intries\n",
    "    return df.drop(columns=[\"Close_\" + file for file in files]).iloc[:-days]\n",
    "\n",
    "files = [\"gspc\",\"gold\"]\n",
    "df = loadData(files)\n",
    "df.describe()"
   ]
  },
  {
   "cell_type": "code",
   "execution_count": 39,
   "metadata": {},
   "outputs": [],
   "source": [
    "#from IPython.core.interactiveshell import InteractiveShell\n",
    "#InteractiveShell.ast_node_interactivity = \"all\""
   ]
  },
  {
   "cell_type": "code",
   "execution_count": 141,
   "metadata": {},
   "outputs": [
    {
     "data": {
      "image/png": "[encoded data removed]",
      "text/plain": [
       "<Figure size 432x288 with 1 Axes>"
      ]
     },
     "metadata": {
      "needs_background": "light"
     },
     "output_type": "display_data"
    },
    {
     "data": {
      "image/png": "[encoded data removed]",
      "text/plain": [
       "<Figure size 432x288 with 1 Axes>"
      ]
     },
     "metadata": {
      "needs_background": "light"
     },
     "output_type": "display_data"
    }
   ],
   "source": [
    "def getEmpiricalDensity(series):\n",
    "    df2=pd.DataFrame()\n",
    "    df2[\"value\"]=series\n",
    "    # Frequency\n",
    "    stats_df = df2 \\\n",
    "    .groupby('value') \\\n",
    "    ['value'] \\\n",
    "    .agg('count') \\\n",
    "    .pipe(pd.DataFrame) \\\n",
    "    .rename(columns = {'value': 'frequency'})\n",
    "\n",
    "    # PDF\n",
    "    stats_df['pdf'] = stats_df['frequency'] / sum(stats_df['frequency'])\n",
    "\n",
    "    # CDF\n",
    "    stats_df['cdf'] = stats_df['pdf'].cumsum()\n",
    "    stats_df = stats_df.reset_index()\n",
    "    \n",
    "    # Plot\n",
    "    #stats_df.plot(x = 'value', y = 'pdf', grid = True)\n",
    "    ax = stats_df.plot(x = 'value', y = 'cdf', xlim=(-0.5,0.7), grid = True)\n",
    "\n",
    "for file in files:\n",
    "    getEmpiricalDensity(df[\"Return_\" + file])"
   ]
  },
  {
   "cell_type": "code",
   "execution_count": 159,
   "metadata": {},
   "outputs": [
    {
     "data": {
      "text/html": [
       "<div>\n",
       "<style scoped>\n",
       "    .dataframe tbody tr th:only-of-type {\n",
       "        vertical-align: middle;\n",
       "    }\n",
       "\n",
       "    .dataframe tbody tr th {\n",
       "        vertical-align: top;\n",
       "    }\n",
       "\n",
       "    .dataframe thead th {\n",
       "        text-align: right;\n",
       "    }\n",
       "</style>\n",
       "<table border=\"1\" class=\"dataframe\">\n",
       "  <thead>\n",
       "    <tr style=\"text-align: right;\">\n",
       "      <th></th>\n",
       "      <th>Return_gspc</th>\n",
       "      <th>Return_gold</th>\n",
       "    </tr>\n",
       "  </thead>\n",
       "  <tbody>\n",
       "    <tr>\n",
       "      <th>Return_gspc</th>\n",
       "      <td>1.000000</td>\n",
       "      <td>-0.101647</td>\n",
       "    </tr>\n",
       "    <tr>\n",
       "      <th>Return_gold</th>\n",
       "      <td>-0.101647</td>\n",
       "      <td>1.000000</td>\n",
       "    </tr>\n",
       "  </tbody>\n",
       "</table>\n",
       "</div>"
      ],
      "text/plain": [
       "             Return_gspc  Return_gold\n",
       "Return_gspc     1.000000    -0.101647\n",
       "Return_gold    -0.101647     1.000000"
      ]
     },
     "execution_count": 159,
     "metadata": {},
     "output_type": "execute_result"
    },
    {
     "data": {
      "image/png": "[encoded data removed]",
      "text/plain": [
       "<Figure size 600x400 with 1 Axes>"
      ]
     },
     "metadata": {
      "needs_background": "light"
     },
     "output_type": "display_data"
    }
   ],
   "source": [
    "x1 = df[\"Return_gspc\"].to_numpy()\n",
    "x2 = df[\"Return_gold\"].to_numpy()\n",
    "\n",
    "fig=plt.figure(figsize = (6,4), dpi = 100)\n",
    "\n",
    "ax1 = plt.scatter(x1,x2,s=1,c='grey')\n",
    "ax1 = plt.xlabel('SP500')\n",
    "ax1 = plt.ylabel('Gold')\n",
    "ax1 = plt.title('Annual returns')\n",
    "\n",
    "ax1 = plt.plot([-0.5,0.5],[0.5,-0.5],'b')\n",
    "ax1 = plt.plot([-0.5,0.4],[0.4,-0.5],'r')\n",
    "ax1 = plt.plot([-0.5,0.6],[0.6,-0.5],'g')\n",
    "plt.gca().set_aspect('equal', adjustable='box')\n",
    "\n",
    "df.corr()"
   ]
  },
  {
   "cell_type": "code",
   "execution_count": 164,
   "metadata": {},
   "outputs": [],
   "source": [
    "#Let's build a MILP\n",
    "from mip import *\n",
    "\n",
    "def myopt(x1,x2,alpha, VaR=0, boundary = 10**6, d=2, max_s = 5):\n",
    "    n=len(x1)\n",
    "    mean_x1=np.mean(x1)\n",
    "    mean_x2=np.mean(x2)\n",
    "    \n",
    "    n_activeCon = np.ceil(n*alpha) #number of active constraints\n",
    "\n",
    "    m = Model(solver_name=CBC)\n",
    "    w = [ m.add_var(var_type=CONTINUOUS) for dd in range(d) ] #asset weights\n",
    "    z = [ m.add_var(var_type=BINARY) for nn in range(n) ] #deactivation switches\n",
    "\n",
    "\n",
    "    #objective\n",
    "    m.objective = minimize(-(w[0]*mean_x1+w[1]*mean_x2))\n",
    "\n",
    "    #constaints\n",
    "    m += xsum(w[dd] for dd in range(d)) == 1\n",
    "    m += xsum(z[nn] for nn in range(n)) == n_activeCon\n",
    "\n",
    "    for nn in range(n):\n",
    "        m += w[0]*x1[nn]+w[1]*x2[nn] >= (VaR - (1-z[nn])*boundary) #VaR constraint\n",
    "    \n",
    "    #obtain model summary\n",
    "    #m.write('model.lp')\n",
    "    #m.read('model.lp')\n",
    "    #print('model has {} vars, {} constraints and {} nzs'.format(m.num_cols, m.num_rows, m.num_nz))\n",
    "\n",
    "    # optimizing\n",
    "    status = m.optimize(max_seconds = max_s)\n",
    "    if status != OptimizationStatus.OPTIMAL:\n",
    "        print(np.round(alpha,3), np.round(VaR,3), status)\n",
    "    return m\n",
    "\n",
    "#ax2=plt.plot(alphas,w0Star)\n",
    "#ax2=plt.plot(alphas,1-w0Star,'r')"
   ]
  },
  {
   "cell_type": "code",
   "execution_count": 185,
   "metadata": {},
   "outputs": [],
   "source": [
    "n=len(df)\n",
    "n_a = 3\n",
    "n_v = 3\n",
    "\n",
    "mean_x1=x1.mean()\n",
    "mean_x2=x2.mean()\n",
    "alphas=np.linspace(0.3,0.6,n_a)\n",
    "VaRs=np.linspace(-0.3,-0.1,n_v)\n",
    "w0Star=np.zeros((n_a,n_v))\n",
    "\n",
    "pars = [(i, j) for i in range(n_a) for j in range(n_v)]\n",
    "for i,j in pars:\n",
    "    w0Star[i,j] = myopt(x1,x2/1.25,alphas[i],VaR=VaRs[j], max_s=1).vars[0].x\n"
   ]
  },
  {
   "cell_type": "code",
   "execution_count": 186,
   "metadata": {},
   "outputs": [
    {
     "data": {
      "text/plain": [
       "array([[0., 0., 0.],\n",
       "       [0., 0., 0.],\n",
       "       [0., 0., 0.]])"
      ]
     },
     "execution_count": 186,
     "metadata": {},
     "output_type": "execute_result"
    }
   ],
   "source": [
    "w0Star"
   ]
  },
  {
   "cell_type": "code",
   "execution_count": 153,
   "metadata": {},
   "outputs": [
    {
     "name": "stdout",
     "output_type": "stream",
     "text": [
      "0.062269631564649326 0.11466026897600487\n",
      "0.16163955844728195 0.27587162348974836\n"
     ]
    }
   ],
   "source": [
    "print(mean_x1, mean_x2)\n",
    "print(np.std(x1),np.std(x2))"
   ]
  },
  {
   "cell_type": "code",
   "execution_count": 133,
   "metadata": {},
   "outputs": [
    {
     "name": "stdout",
     "output_type": "stream",
     "text": [
      "0.1761904421224771 0.8238095578775229\n"
     ]
    }
   ],
   "source": [
    "m1 = myopt(1, VaR=-0.2, boundary = 10**6, d=2, max_s = 10)\n",
    "print(m1.vars[0].x, m1.vars[1].x)"
   ]
  }
 ],
 "metadata": {
  "kernelspec": {
   "display_name": "Python 3",
   "language": "python",
   "name": "python3"
  },
  "language_info": {
   "codemirror_mode": {
    "name": "ipython",
    "version": 3
   },
   "file_extension": ".py",
   "mimetype": "text/x-python",
   "name": "python",
   "nbconvert_exporter": "python",
   "pygments_lexer": "ipython3",
   "version": "3.7.9"
  }
 },
 "nbformat": 4,
 "nbformat_minor": 4
}
