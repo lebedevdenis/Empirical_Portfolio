{
 "cells": [
  {
   "cell_type": "markdown",
   "metadata": {},
   "source": [
    "Testing Empirical cumulative distribution in 2-D"
   ]
  },
  {
   "cell_type": "code",
   "execution_count": 156,
   "metadata": {},
   "outputs": [
    {
     "name": "stdout",
     "output_type": "stream",
     "text": [
      "0.05788914818656496 0.030186582533625963\n"
     ]
    },
    {
     "data": {
      "image/png": "[encoded data removed]",
      "text/plain": [
       "<Figure size 432x288 with 1 Axes>"
      ]
     },
     "metadata": {
      "needs_background": "light"
     },
     "output_type": "display_data"
    }
   ],
   "source": [
    "import numpy as np\n",
    "import matplotlib.pyplot as plt\n",
    "from matplotlib import cm\n",
    "import matplotlib.colors as colors\n",
    "\n",
    "n=1000 #number data points\n",
    "mean=[0.056,0.029] #mean\n",
    "cov=[[0.0225,-0.0038],[-0.0038,0.0016]] #covariance matrix\n",
    "x1,x2=np.random.multivariate_normal(mean,cov,n).T\n",
    "ax1 = plt.scatter(x1,x2)\n",
    "ax1 =plt.plot([-0.5,0.5],[0.5,-0.5],'r')\n",
    "plt.gca().set_aspect('equal', adjustable='box')\n",
    "mean_x1 = np.mean(x1)\n",
    "mean_x2 = np.mean(x2)\n",
    "print(mean_x1,mean_x2)"
   ]
  },
  {
   "cell_type": "code",
   "execution_count": 151,
   "metadata": {},
   "outputs": [
    {
     "data": {
      "image/png": "[encoded data removed]",
      "text/plain": [
       "<Figure size 432x288 with 1 Axes>"
      ]
     },
     "metadata": {
      "needs_background": "light"
     },
     "output_type": "display_data"
    }
   ],
   "source": [
    "#Let's build a MILP\n",
    "from mip import *\n",
    "\n",
    "def myopt(alpha):\n",
    "    d=2 #2-dimensional problem\n",
    "    #alpha = 0.70 #significance level\n",
    "    n_activeCon = np.ceil(n*alpha) #number of active constraints\n",
    "    VaR = 0.0\n",
    "\n",
    "    boundary = 10**6\n",
    "\n",
    "    m = Model(solver_name=CBC)\n",
    "    w = [ m.add_var(var_type=CONTINUOUS) for dd in range(d) ]\n",
    "    z = [ m.add_var(var_type=BINARY) for nn in range(n) ] #deactivation switches\n",
    "\n",
    "\n",
    "    #objective\n",
    "    m.objective = minimize(-(w[0]*mean_x1+w[1]*mean_x2))\n",
    "\n",
    "    #constaints\n",
    "    m += xsum(w[dd] for dd in range(d)) == 1\n",
    "    m += xsum(z[nn] for nn in range(n)) == (n-n_activeCon)\n",
    "\n",
    "    for nn in range(n):\n",
    "        m += w[0]*x1[nn]+w[1]*x2[nn] >= (VaR - z[nn]*boundary) #VaR constraint\n",
    "    \n",
    "    #obtain model summary\n",
    "    #m.write('model.lp')\n",
    "    #m.read('model.lp')\n",
    "    #print('model has {} vars, {} constraints and {} nzs'.format(m.num_cols, m.num_rows, m.num_nz))\n",
    "\n",
    "    # optimizing\n",
    "    status = m.optimize()\n",
    "    if status != OptimizationStatus.OPTIMAL:\n",
    "        print(np.round(alpha,3), status)\n",
    "    return m.vars[0].x\n",
    "\n",
    "k = 10\n",
    "\n",
    "alphas=np.linspace(0.5,0.9,k)\n",
    "w0Star=np.zeros(k)\n",
    "\n",
    "for i in range(k):\n",
    "    w0Star[i] = myopt(alphas[i])\n",
    "\n",
    "ax2=plt.plot(alphas,w0Star)\n",
    "ax2=plt.plot(alphas,1-w0Star,'r')"
   ]
  },
  {
   "cell_type": "code",
   "execution_count": 133,
   "metadata": {},
   "outputs": [
    {
     "name": "stdout",
     "output_type": "stream",
     "text": [
      "0.042687228905083856\n"
     ]
    },
    {
     "data": {
      "text/plain": [
       "0.5606286767933971"
      ]
     },
     "execution_count": 133,
     "metadata": {},
     "output_type": "execute_result"
    }
   ],
   "source": [
    "print(-m.objective_value)\n",
    "#for v in m.vars:\n",
    "#       print('{} : {}'.format(v.name, v.x))\n",
    "\n",
    "m.vars[0].x"
   ]
  }
 ],
 "metadata": {
  "kernelspec": {
   "display_name": "Python 3",
   "language": "python",
   "name": "python3"
  },
  "language_info": {
   "codemirror_mode": {
    "name": "ipython",
    "version": 3
   },
   "file_extension": ".py",
   "mimetype": "text/x-python",
   "name": "python",
   "nbconvert_exporter": "python",
   "pygments_lexer": "ipython3",
   "version": "3.7.9"
  }
 },
 "nbformat": 4,
 "nbformat_minor": 4
}
