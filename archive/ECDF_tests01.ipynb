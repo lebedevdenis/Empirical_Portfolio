{
 "cells": [
  {
   "cell_type": "markdown",
   "metadata": {},
   "source": [
    "Testing Empirical cumulative distribution in 2-D"
   ]
  },
  {
   "cell_type": "code",
   "execution_count": 6,
   "metadata": {},
   "outputs": [],
   "source": [
    "import numpy as np\n",
    "import matplotlib.pyplot as plt\n",
    "from matplotlib import cm\n",
    "import matplotlib.colors as colors\n",
    "\n",
    "n=1000 #number data points\n",
    "mean=[2,1] #mean\n",
    "cov=[[0.2,0.05],[0.05,0.1]] #covariance matrix\n",
    "x1,x2=np.random.multivariate_normal(mean,cov,n).T\n",
    "\n",
    "#ax1 = plt.scatter(x1,x2)\n",
    "y=np.zeros(n,)\n",
    "for i in range(n):\n",
    "    y[i]=np.sum((x1[i] > x1) & (x2[i] > x2))\n",
    "y/=n^2\n",
    "\n",
    "#fig = plt.figure(figsize=(12,8), dpi= 100)\n",
    "#ax = fig.add_subplot(111, projection='3d')\n",
    "hist, xedges, yedges = np.histogram2d(x1, x2, bins=100, range=[[-2, 4], [-2, 4]])\n",
    "\n",
    "# Construct arrays for the anchor positions of the 16 bars.\n",
    "xpos, ypos = np.meshgrid(xedges[:-1] + 0.25, yedges[:-1] + 0.25, indexing=\"ij\")\n",
    "xpos = xpos.ravel()\n",
    "ypos = ypos.ravel()\n",
    "zpos = 0\n",
    "\n",
    "# Construct arrays with the dimensions for the 16 bars.\n",
    "dx = dy = 0.1 * np.ones_like(zpos)\n",
    "dz = hist.ravel()\n",
    "\n",
    "offset = dz + np.abs(dz.min())\n",
    "fracs = offset.astype(float)/offset.max()\n",
    "norm = colors.Normalize(fracs.min(), fracs.max())\n",
    "color_values = cm.coolwarm(norm(fracs.tolist()))\n",
    "\n",
    "#ax.bar3d(xpos, ypos, zpos, dx, dy, dz, zsort='average', color=color_values)\n",
    "#plt.show()\n",
    "\n",
    "#plotX=meshgrid\n",
    "\n",
    "#fig, ax = plt.subplots(subplot_kw={\"projection\": \"3d\"})\n",
    "#ax.plot_surface(x1,x2,y,cmap=cm.coolwarm)\n",
    "\n"
   ]
  },
  {
   "cell_type": "code",
   "execution_count": 2,
   "metadata": {},
   "outputs": [],
   "source": [
    "import numpy as np\n",
    "import matplotlib.pyplot as plt\n",
    "from matplotlib import cm\n",
    "import matplotlib.colors as colors\n",
    "\n",
    "n=100 #number data points\n",
    "mean=[0.056,0.029] #mean\n",
    "cov=[[0.0225,-0.0038],[-0.0038,0.0016]] #covariance matrix\n",
    "x1,x2=np.random.multivariate_normal(mean,cov,n).T"
   ]
  },
  {
   "cell_type": "code",
   "execution_count": 3,
   "metadata": {},
   "outputs": [
    {
     "data": {
      "image/png": "[encoded data removed]",
      "text/plain": [
       "<Figure size 432x288 with 1 Axes>"
      ]
     },
     "metadata": {
      "needs_background": "light"
     },
     "output_type": "display_data"
    }
   ],
   "source": [
    "#ax1 = plt.scatter(x1,x2)\n",
    "estimate= np.zeros(100,)\n",
    "for mybin in range(100):\n",
    "    y=np.zeros(n,)\n",
    "    for i in range(n):\n",
    "        y[i]=np.sum((x1[i] > x1) & (x2[i] > x2))\n",
    "    y/=n\n",
    "    hist_vals, xbins, ybins, mesh = plt.hist2d(x1, x2, bins=mybin+1, cmap='Blues')\n",
    "    #plt.grid(b=True, which='major', color='#666666', linestyle='-')\n",
    "    #plt.pcolormesh(xbins, ybins, hist_vals.cumsum(axis=0).cumsum(axis=1),cmap='Blues')\n",
    "\n",
    "    #my expectation: expected value of x1 = integral over x1 (x1*p(x1) dx1) = integral over x1 (x1 integral over x2 p(x1,x2) dx2)\n",
    "\n",
    "    mean_x1 = 0\n",
    "    mean_x2 = 0\n",
    "    I,_ =np.shape(hist_vals)\n",
    "    for i in range(I):\n",
    "            mean_x1 += sum(hist_vals[i,:])*xbins[i]\n",
    "            mean_x2 += sum(hist_vals[:,i])*ybins[i]\n",
    "    mean_x1 /= n\n",
    "    mean_x2 /= n\n",
    "    #print(mean_x1, mean_x2)\n",
    "    #print(mean_x1/mean[0],mean_x2/mean[1])\n",
    "\n",
    "    #so expectation.T = M @ [xbins,ybins], where M[i,:] = sum(hist_vals, axis=[all but i])\n",
    "\n",
    "    #what if we add weights?\n",
    "\n",
    "    #so expectation.T = M @ [bins_1,bins_2,...bins_i,...bins_d], where M[i,:] = sum(hist_vals, axis=[all but i])\n",
    "    #maximise weighted sum of expectations:\n",
    "    # max_w expectation.T @ w, subject to constraints:\n",
    "    #prob of less than -10% return less than 5%\n",
    "    #also no leveraging and weights add to one\n",
    "    \n",
    "    #number of decision variables: d\n",
    "    #number of constraints: 1 for weight sum, 1 for no leverage, 1 constraint for hyperplane supporting risk points \n",
    "\n",
    "    mymesh=np.zeros((I,I))\n",
    "    for i in range(I):\n",
    "        for j in range(I):\n",
    "            mymesh[i,j]=0.5*xbins[i]+0.5*ybins[j]\n",
    "\n",
    "    estimate[mybin] = np.sum(np.ravel(hist_vals)[mymesh.ravel() <= -0.1])/n"
   ]
  },
  {
   "cell_type": "code",
   "execution_count": 4,
   "metadata": {},
   "outputs": [
    {
     "data": {
      "text/plain": [
       "[<matplotlib.lines.Line2D at 0x1952caa1e88>]"
      ]
     },
     "execution_count": 4,
     "metadata": {},
     "output_type": "execute_result"
    },
    {
     "data": {
      "image/png": "[encoded data removed]",
      "text/plain": [
       "<Figure size 432x288 with 1 Axes>"
      ]
     },
     "metadata": {
      "needs_background": "light"
     },
     "output_type": "display_data"
    }
   ],
   "source": [
    "plt.plot(estimate[:100])"
   ]
  },
  {
   "cell_type": "code",
   "execution_count": 14,
   "metadata": {},
   "outputs": [
    {
     "data": {
      "text/plain": [
       "1000"
      ]
     },
     "execution_count": 14,
     "metadata": {},
     "output_type": "execute_result"
    }
   ],
   "source": [
    "mean_x1\n",
    "n"
   ]
  },
  {
   "cell_type": "code",
   "execution_count": 12,
   "metadata": {},
   "outputs": [],
   "source": [
    "#Let's build a MILP\n",
    "from mip import *\n",
    "\n",
    "d=2 #2-dimensional problem\n",
    "alpha = 0.05 #significance level\n",
    "n_activeCon = np.ceil(n*0.05) #number of active constraints\n",
    "\n",
    "m = Model(solver_name=CBC) # use GRB for Gurobi\n",
    "w = [ m.add_var() for i in range(d) ]\n",
    "z = [ m.add_var(var_type=BINARY) for i in range(n) ]\n",
    "\n",
    "\n",
    "#objective\n",
    "m.objective = maximise(w[0]*mean_x1+w[1]*mean_x2)\n",
    "\n",
    "#constaints\n",
    "m += xsum(z[i] for i in range(n)) == n_activeCon"
   ]
  }
 ],
 "metadata": {
  "kernelspec": {
   "display_name": "Python 3",
   "language": "python",
   "name": "python3"
  },
  "language_info": {
   "codemirror_mode": {
    "name": "ipython",
    "version": 3
   },
   "file_extension": ".py",
   "mimetype": "text/x-python",
   "name": "python",
   "nbconvert_exporter": "python",
   "pygments_lexer": "ipython3",
   "version": "3.7.9"
  }
 },
 "nbformat": 4,
 "nbformat_minor": 4
}
