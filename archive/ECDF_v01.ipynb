{
 "cells": [
  {
   "cell_type": "markdown",
   "metadata": {},
   "source": [
    "Testing Empirical cumulative distribution in 2-D"
   ]
  },
  {
   "cell_type": "code",
   "execution_count": 1,
   "metadata": {},
   "outputs": [
    {
     "name": "stdout",
     "output_type": "stream",
     "text": [
      "Check for nan values:\n",
      "0\n",
      "0\n"
     ]
    }
   ],
   "source": [
    "import numpy as np\n",
    "import matplotlib.pyplot as plt\n",
    "from matplotlib import cm\n",
    "import matplotlib.colors as colors\n",
    "import pandas as pd\n",
    "\n",
    "df_sp500 = pd.read_csv('C:/Users/worc3920/Documents/GitHub/EmpiricalPortfolio/gspc.csv')\n",
    "df_sp500 = df_sp500[[\"Date\",\"Close\"]]\n",
    "df_sp500_copy = pd.DataFrame()\n",
    "\n",
    "j=0\n",
    "for i in range(len(df_sp500)):\n",
    "    if np.int(df_sp500.loc[i,\"Date\"][:4]) >= 1960:\n",
    "        df_sp500_copy.loc[j,\"Date\"] = df_sp500.loc[i,\"Date\"]\n",
    "        df_sp500_copy.loc[j,\"Close\"] = df_sp500.loc[i,\"Close\"]\n",
    "        j+= 1\n",
    "df_sp500_copy.head()\n",
    "\n",
    "\n",
    "df_13w = pd.read_csv('C:/Users/worc3920/Documents/GitHub/EmpiricalPortfolio/irx.csv')\n",
    "df_13w = df_13w[[\"Date\",\"Close\"]]\n",
    "\n",
    "def neighborImputer(df):\n",
    "    for i in range(1,len(df)-1):\n",
    "        if np.isnan(df.loc[i,\"Close\"]):            \n",
    "            df.loc[i,\"Close\"] = df.loc[i-1,\"Close\"]\n",
    "    return df\n",
    "\n",
    "def weekendImputer(df_part,df_complete):\n",
    "    df_ret = df_complete.copy()\n",
    "    df_ret[\"Close\"]=np.nan\n",
    "    for i in range(len(df_part)):\n",
    "        df_ret.loc[df_ret[\"Date\"]==df_part.loc[i,\"Date\"],\"Close\"]=df_part.loc[i,\"Close\"]\n",
    "        \n",
    "    for i in range(1,len(df_ret)-1):\n",
    "        if np.isnan(df_ret.loc[i,\"Close\"]):\n",
    "            df_ret.loc[i,\"Close\"] = df_ret.loc[i-1,\"Close\"]\n",
    "    return df_ret\n",
    "\n",
    "df_13w = neighborImputer(df_13w)\n",
    "df_sp500_copy = weekendImputer(df_sp500,df_13w)\n",
    "print(\"Check for nan values:\")\n",
    "print(np.isnan(df_13w[\"Close\"]).sum())\n",
    "print(np.isnan(df_sp500_copy[\"Close\"]).sum())"
   ]
  },
  {
   "cell_type": "code",
   "execution_count": 2,
   "metadata": {},
   "outputs": [
    {
     "name": "stdout",
     "output_type": "stream",
     "text": [
      "18986\n",
      "18986\n"
     ]
    },
    {
     "data": {
      "text/html": [
       "<div>\n",
       "<style scoped>\n",
       "    .dataframe tbody tr th:only-of-type {\n",
       "        vertical-align: middle;\n",
       "    }\n",
       "\n",
       "    .dataframe tbody tr th {\n",
       "        vertical-align: top;\n",
       "    }\n",
       "\n",
       "    .dataframe thead th {\n",
       "        text-align: right;\n",
       "    }\n",
       "</style>\n",
       "<table border=\"1\" class=\"dataframe\">\n",
       "  <thead>\n",
       "    <tr style=\"text-align: right;\">\n",
       "      <th></th>\n",
       "      <th>Close</th>\n",
       "    </tr>\n",
       "  </thead>\n",
       "  <tbody>\n",
       "    <tr>\n",
       "      <th>count</th>\n",
       "      <td>18986.000000</td>\n",
       "    </tr>\n",
       "    <tr>\n",
       "      <th>mean</th>\n",
       "      <td>4.480252</td>\n",
       "    </tr>\n",
       "    <tr>\n",
       "      <th>std</th>\n",
       "      <td>3.176864</td>\n",
       "    </tr>\n",
       "    <tr>\n",
       "      <th>min</th>\n",
       "      <td>-0.105000</td>\n",
       "    </tr>\n",
       "    <tr>\n",
       "      <th>25%</th>\n",
       "      <td>2.168000</td>\n",
       "    </tr>\n",
       "    <tr>\n",
       "      <th>50%</th>\n",
       "      <td>4.590000</td>\n",
       "    </tr>\n",
       "    <tr>\n",
       "      <th>75%</th>\n",
       "      <td>6.090000</td>\n",
       "    </tr>\n",
       "    <tr>\n",
       "      <th>max</th>\n",
       "      <td>17.139999</td>\n",
       "    </tr>\n",
       "  </tbody>\n",
       "</table>\n",
       "</div>"
      ],
      "text/plain": [
       "              Close\n",
       "count  18986.000000\n",
       "mean       4.480252\n",
       "std        3.176864\n",
       "min       -0.105000\n",
       "25%        2.168000\n",
       "50%        4.590000\n",
       "75%        6.090000\n",
       "max       17.139999"
      ]
     },
     "execution_count": 2,
     "metadata": {},
     "output_type": "execute_result"
    }
   ],
   "source": [
    "from IPython.core.interactiveshell import InteractiveShell\n",
    "InteractiveShell.ast_node_interactivity = \"all\"\n",
    "\n",
    "print(len(df_sp500_copy))\n",
    "print(len(df_13w))\n",
    "df_sp500_copy.describe()\n",
    "df_13w.describe()"
   ]
  },
  {
   "cell_type": "code",
   "execution_count": 3,
   "metadata": {},
   "outputs": [
    {
     "name": "stdout",
     "output_type": "stream",
     "text": [
      "0\n",
      "0\n"
     ]
    }
   ],
   "source": [
    "def get1yReturn(df,ident):\n",
    "    df2=pd.DataFrame()\n",
    "    df2[\"Date\"]=df[\"Date\"].copy()\n",
    "    for i in range(len(df) - 315):\n",
    "        df2.loc[i,\"return_\"+ident] = df.loc[i+315,\"Close\"]/df.loc[i,\"Close\"]-1\n",
    "    return df2.loc[0:len(df2)-316,:]       \n",
    "\n",
    "df_13w_2 = get1yReturn(df_13w,\"13w\")\n",
    "df_sp500_2 = get1yReturn(df_sp500_copy,\"sp500\")\n",
    "\n",
    "print(np.isnan(df_13w_2[\"return_13w\"]).sum())\n",
    "print(np.isnan(df_sp500_2[\"return_sp500\"]).sum())"
   ]
  },
  {
   "cell_type": "code",
   "execution_count": 4,
   "metadata": {},
   "outputs": [
    {
     "data": {
      "text/html": [
       "<div>\n",
       "<style scoped>\n",
       "    .dataframe tbody tr th:only-of-type {\n",
       "        vertical-align: middle;\n",
       "    }\n",
       "\n",
       "    .dataframe tbody tr th {\n",
       "        vertical-align: top;\n",
       "    }\n",
       "\n",
       "    .dataframe thead th {\n",
       "        text-align: right;\n",
       "    }\n",
       "</style>\n",
       "<table border=\"1\" class=\"dataframe\">\n",
       "  <thead>\n",
       "    <tr style=\"text-align: right;\">\n",
       "      <th></th>\n",
       "      <th>Date</th>\n",
       "      <th>return_13w</th>\n",
       "    </tr>\n",
       "  </thead>\n",
       "  <tbody>\n",
       "    <tr>\n",
       "      <th>18666</th>\n",
       "      <td>2020-01-02</td>\n",
       "      <td>-0.949833</td>\n",
       "    </tr>\n",
       "    <tr>\n",
       "      <th>18667</th>\n",
       "      <td>2020-01-03</td>\n",
       "      <td>-0.949084</td>\n",
       "    </tr>\n",
       "    <tr>\n",
       "      <th>18668</th>\n",
       "      <td>2020-01-05</td>\n",
       "      <td>-0.949084</td>\n",
       "    </tr>\n",
       "    <tr>\n",
       "      <th>18669</th>\n",
       "      <td>2020-01-06</td>\n",
       "      <td>-0.950941</td>\n",
       "    </tr>\n",
       "    <tr>\n",
       "      <th>18670</th>\n",
       "      <td>2020-01-07</td>\n",
       "      <td>-0.950000</td>\n",
       "    </tr>\n",
       "  </tbody>\n",
       "</table>\n",
       "</div>"
      ],
      "text/plain": [
       "             Date  return_13w\n",
       "18666  2020-01-02   -0.949833\n",
       "18667  2020-01-03   -0.949084\n",
       "18668  2020-01-05   -0.949084\n",
       "18669  2020-01-06   -0.950941\n",
       "18670  2020-01-07   -0.950000"
      ]
     },
     "execution_count": 4,
     "metadata": {},
     "output_type": "execute_result"
    },
    {
     "data": {
      "text/html": [
       "<div>\n",
       "<style scoped>\n",
       "    .dataframe tbody tr th:only-of-type {\n",
       "        vertical-align: middle;\n",
       "    }\n",
       "\n",
       "    .dataframe tbody tr th {\n",
       "        vertical-align: top;\n",
       "    }\n",
       "\n",
       "    .dataframe thead th {\n",
       "        text-align: right;\n",
       "    }\n",
       "</style>\n",
       "<table border=\"1\" class=\"dataframe\">\n",
       "  <thead>\n",
       "    <tr style=\"text-align: right;\">\n",
       "      <th></th>\n",
       "      <th>Date</th>\n",
       "      <th>return_sp500</th>\n",
       "    </tr>\n",
       "  </thead>\n",
       "  <tbody>\n",
       "    <tr>\n",
       "      <th>18666</th>\n",
       "      <td>2020-01-02</td>\n",
       "      <td>0.165044</td>\n",
       "    </tr>\n",
       "    <tr>\n",
       "      <th>18667</th>\n",
       "      <td>2020-01-03</td>\n",
       "      <td>0.164892</td>\n",
       "    </tr>\n",
       "    <tr>\n",
       "      <th>18668</th>\n",
       "      <td>2020-01-05</td>\n",
       "      <td>0.164892</td>\n",
       "    </tr>\n",
       "    <tr>\n",
       "      <th>18669</th>\n",
       "      <td>2020-01-06</td>\n",
       "      <td>0.170235</td>\n",
       "    </tr>\n",
       "    <tr>\n",
       "      <th>18670</th>\n",
       "      <td>2020-01-07</td>\n",
       "      <td>0.189878</td>\n",
       "    </tr>\n",
       "  </tbody>\n",
       "</table>\n",
       "</div>"
      ],
      "text/plain": [
       "             Date  return_sp500\n",
       "18666  2020-01-02      0.165044\n",
       "18667  2020-01-03      0.164892\n",
       "18668  2020-01-05      0.164892\n",
       "18669  2020-01-06      0.170235\n",
       "18670  2020-01-07      0.189878"
      ]
     },
     "execution_count": 4,
     "metadata": {},
     "output_type": "execute_result"
    },
    {
     "data": {
      "text/html": [
       "<div>\n",
       "<style scoped>\n",
       "    .dataframe tbody tr th:only-of-type {\n",
       "        vertical-align: middle;\n",
       "    }\n",
       "\n",
       "    .dataframe tbody tr th {\n",
       "        vertical-align: top;\n",
       "    }\n",
       "\n",
       "    .dataframe thead th {\n",
       "        text-align: right;\n",
       "    }\n",
       "</style>\n",
       "<table border=\"1\" class=\"dataframe\">\n",
       "  <thead>\n",
       "    <tr style=\"text-align: right;\">\n",
       "      <th></th>\n",
       "      <th>return_sp500</th>\n",
       "    </tr>\n",
       "  </thead>\n",
       "  <tbody>\n",
       "    <tr>\n",
       "      <th>count</th>\n",
       "      <td>18671.000000</td>\n",
       "    </tr>\n",
       "    <tr>\n",
       "      <th>mean</th>\n",
       "      <td>0.083144</td>\n",
       "    </tr>\n",
       "    <tr>\n",
       "      <th>std</th>\n",
       "      <td>0.157369</td>\n",
       "    </tr>\n",
       "    <tr>\n",
       "      <th>min</th>\n",
       "      <td>-0.506830</td>\n",
       "    </tr>\n",
       "    <tr>\n",
       "      <th>25%</th>\n",
       "      <td>-0.005339</td>\n",
       "    </tr>\n",
       "    <tr>\n",
       "      <th>50%</th>\n",
       "      <td>0.099126</td>\n",
       "    </tr>\n",
       "    <tr>\n",
       "      <th>75%</th>\n",
       "      <td>0.185426</td>\n",
       "    </tr>\n",
       "    <tr>\n",
       "      <th>max</th>\n",
       "      <td>0.723220</td>\n",
       "    </tr>\n",
       "  </tbody>\n",
       "</table>\n",
       "</div>"
      ],
      "text/plain": [
       "       return_sp500\n",
       "count  18671.000000\n",
       "mean       0.083144\n",
       "std        0.157369\n",
       "min       -0.506830\n",
       "25%       -0.005339\n",
       "50%        0.099126\n",
       "75%        0.185426\n",
       "max        0.723220"
      ]
     },
     "execution_count": 4,
     "metadata": {},
     "output_type": "execute_result"
    },
    {
     "data": {
      "text/html": [
       "<div>\n",
       "<style scoped>\n",
       "    .dataframe tbody tr th:only-of-type {\n",
       "        vertical-align: middle;\n",
       "    }\n",
       "\n",
       "    .dataframe tbody tr th {\n",
       "        vertical-align: top;\n",
       "    }\n",
       "\n",
       "    .dataframe thead th {\n",
       "        text-align: right;\n",
       "    }\n",
       "</style>\n",
       "<table border=\"1\" class=\"dataframe\">\n",
       "  <thead>\n",
       "    <tr style=\"text-align: right;\">\n",
       "      <th></th>\n",
       "      <th>return_13w</th>\n",
       "    </tr>\n",
       "  </thead>\n",
       "  <tbody>\n",
       "    <tr>\n",
       "      <th>count</th>\n",
       "      <td>18671.000000</td>\n",
       "    </tr>\n",
       "    <tr>\n",
       "      <th>mean</th>\n",
       "      <td>0.675036</td>\n",
       "    </tr>\n",
       "    <tr>\n",
       "      <th>std</th>\n",
       "      <td>5.366398</td>\n",
       "    </tr>\n",
       "    <tr>\n",
       "      <th>min</th>\n",
       "      <td>-1.043970</td>\n",
       "    </tr>\n",
       "    <tr>\n",
       "      <th>25%</th>\n",
       "      <td>-0.246794</td>\n",
       "    </tr>\n",
       "    <tr>\n",
       "      <th>50%</th>\n",
       "      <td>0.005825</td>\n",
       "    </tr>\n",
       "    <tr>\n",
       "      <th>75%</th>\n",
       "      <td>0.283125</td>\n",
       "    </tr>\n",
       "    <tr>\n",
       "      <th>max</th>\n",
       "      <td>118.333333</td>\n",
       "    </tr>\n",
       "  </tbody>\n",
       "</table>\n",
       "</div>"
      ],
      "text/plain": [
       "         return_13w\n",
       "count  18671.000000\n",
       "mean       0.675036\n",
       "std        5.366398\n",
       "min       -1.043970\n",
       "25%       -0.246794\n",
       "50%        0.005825\n",
       "75%        0.283125\n",
       "max      118.333333"
      ]
     },
     "execution_count": 4,
     "metadata": {},
     "output_type": "execute_result"
    },
    {
     "data": {
      "text/plain": [
       "18617    3066.909912\n",
       "Name: Close, dtype: float64"
      ]
     },
     "execution_count": 4,
     "metadata": {},
     "output_type": "execute_result"
    },
    {
     "data": {
      "text/plain": [
       "18922    3369.159912\n",
       "Name: Close, dtype: float64"
      ]
     },
     "execution_count": 4,
     "metadata": {},
     "output_type": "execute_result"
    }
   ],
   "source": [
    "from IPython.core.interactiveshell import InteractiveShell\n",
    "InteractiveShell.ast_node_interactivity = \"all\"\n",
    "\n",
    "df_13w_2.tail()\n",
    "df_sp500_2.tail()\n",
    "df_sp500_2.describe()\n",
    "df_13w_2.describe()\n",
    "df_sp500_copy.loc[df_sp500_copy[\"Date\"]=='2019-11-03',\"Close\"]\n",
    "df_sp500_copy.loc[df_sp500_copy[\"Date\"]=='2020-11-03',\"Close\"]"
   ]
  },
  {
   "cell_type": "code",
   "execution_count": 5,
   "metadata": {},
   "outputs": [
    {
     "name": "stdout",
     "output_type": "stream",
     "text": [
      "0\n",
      "0\n",
      "2015-10-23\n",
      "2009-03-09\n"
     ]
    },
    {
     "data": {
      "text/html": [
       "<div>\n",
       "<style scoped>\n",
       "    .dataframe tbody tr th:only-of-type {\n",
       "        vertical-align: middle;\n",
       "    }\n",
       "\n",
       "    .dataframe tbody tr th {\n",
       "        vertical-align: top;\n",
       "    }\n",
       "\n",
       "    .dataframe thead th {\n",
       "        text-align: right;\n",
       "    }\n",
       "</style>\n",
       "<table border=\"1\" class=\"dataframe\">\n",
       "  <thead>\n",
       "    <tr style=\"text-align: right;\">\n",
       "      <th></th>\n",
       "      <th>return_sp500</th>\n",
       "      <th>return_13w</th>\n",
       "    </tr>\n",
       "  </thead>\n",
       "  <tbody>\n",
       "    <tr>\n",
       "      <th>count</th>\n",
       "      <td>18671.000000</td>\n",
       "      <td>18671.000000</td>\n",
       "    </tr>\n",
       "    <tr>\n",
       "      <th>mean</th>\n",
       "      <td>0.083144</td>\n",
       "      <td>0.675036</td>\n",
       "    </tr>\n",
       "    <tr>\n",
       "      <th>std</th>\n",
       "      <td>0.157369</td>\n",
       "      <td>5.366398</td>\n",
       "    </tr>\n",
       "    <tr>\n",
       "      <th>min</th>\n",
       "      <td>-0.506830</td>\n",
       "      <td>-1.043970</td>\n",
       "    </tr>\n",
       "    <tr>\n",
       "      <th>25%</th>\n",
       "      <td>-0.005339</td>\n",
       "      <td>-0.246794</td>\n",
       "    </tr>\n",
       "    <tr>\n",
       "      <th>50%</th>\n",
       "      <td>0.099126</td>\n",
       "      <td>0.005825</td>\n",
       "    </tr>\n",
       "    <tr>\n",
       "      <th>75%</th>\n",
       "      <td>0.185426</td>\n",
       "      <td>0.283125</td>\n",
       "    </tr>\n",
       "    <tr>\n",
       "      <th>max</th>\n",
       "      <td>0.723220</td>\n",
       "      <td>118.333333</td>\n",
       "    </tr>\n",
       "  </tbody>\n",
       "</table>\n",
       "</div>"
      ],
      "text/plain": [
       "       return_sp500    return_13w\n",
       "count  18671.000000  18671.000000\n",
       "mean       0.083144      0.675036\n",
       "std        0.157369      5.366398\n",
       "min       -0.506830     -1.043970\n",
       "25%       -0.005339     -0.246794\n",
       "50%        0.099126      0.005825\n",
       "75%        0.185426      0.283125\n",
       "max        0.723220    118.333333"
      ]
     },
     "execution_count": 5,
     "metadata": {},
     "output_type": "execute_result"
    }
   ],
   "source": [
    "df = df_sp500_2[[\"Date\",\"return_sp500\"]]\n",
    "df = df.join(df_13w_2[[\"Date\",\"return_13w\"]].set_index('Date'), on='Date')\n",
    "print(np.isnan(df[\"return_13w\"]).sum())\n",
    "print(np.isnan(df[\"return_sp500\"]).sum())\n",
    "\n",
    "print(df.loc[np.argmax(df[\"return_13w\"]),\"Date\"])\n",
    "print(df.loc[np.argmax(df[\"return_sp500\"]),\"Date\"])\n",
    "df.describe()\n",
    "\n"
   ]
  },
  {
   "cell_type": "code",
   "execution_count": 6,
   "metadata": {},
   "outputs": [
    {
     "data": {
      "text/plain": [
       "17372    0.003\n",
       "Name: Close, dtype: float64"
      ]
     },
     "execution_count": 6,
     "metadata": {},
     "output_type": "execute_result"
    },
    {
     "data": {
      "text/plain": [
       "17372    0.003\n",
       "Name: Close, dtype: float64"
      ]
     },
     "execution_count": 6,
     "metadata": {},
     "output_type": "execute_result"
    },
    {
     "name": "stdout",
     "output_type": "stream",
     "text": [
      "2015\n"
     ]
    },
    {
     "data": {
      "text/plain": [
       "17371    0.013\n",
       "Name: Close, dtype: float64"
      ]
     },
     "execution_count": 6,
     "metadata": {},
     "output_type": "execute_result"
    },
    {
     "data": {
      "text/plain": [
       "17372    0.003\n",
       "Name: Close, dtype: float64"
      ]
     },
     "execution_count": 6,
     "metadata": {},
     "output_type": "execute_result"
    },
    {
     "data": {
      "text/plain": [
       "17373    0.005\n",
       "Name: Close, dtype: float64"
      ]
     },
     "execution_count": 6,
     "metadata": {},
     "output_type": "execute_result"
    },
    {
     "name": "stdout",
     "output_type": "stream",
     "text": [
      "2016\n"
     ]
    },
    {
     "data": {
      "text/plain": [
       "17678    0.263\n",
       "Name: Close, dtype: float64"
      ]
     },
     "execution_count": 6,
     "metadata": {},
     "output_type": "execute_result"
    },
    {
     "data": {
      "text/plain": [
       "17679    0.235\n",
       "Name: Close, dtype: float64"
      ]
     },
     "execution_count": 6,
     "metadata": {},
     "output_type": "execute_result"
    },
    {
     "data": {
      "text/plain": [
       "17680    0.26\n",
       "Name: Close, dtype: float64"
      ]
     },
     "execution_count": 6,
     "metadata": {},
     "output_type": "execute_result"
    },
    {
     "data": {
      "text/html": [
       "<div>\n",
       "<style scoped>\n",
       "    .dataframe tbody tr th:only-of-type {\n",
       "        vertical-align: middle;\n",
       "    }\n",
       "\n",
       "    .dataframe tbody tr th {\n",
       "        vertical-align: top;\n",
       "    }\n",
       "\n",
       "    .dataframe thead th {\n",
       "        text-align: right;\n",
       "    }\n",
       "</style>\n",
       "<table border=\"1\" class=\"dataframe\">\n",
       "  <thead>\n",
       "    <tr style=\"text-align: right;\">\n",
       "      <th></th>\n",
       "      <th>Date</th>\n",
       "      <th>return_sp500</th>\n",
       "      <th>return_13w</th>\n",
       "    </tr>\n",
       "  </thead>\n",
       "  <tbody>\n",
       "    <tr>\n",
       "      <th>17198</th>\n",
       "      <td>2015-03-05</td>\n",
       "      <td>-0.040509</td>\n",
       "      <td>107.333333</td>\n",
       "    </tr>\n",
       "    <tr>\n",
       "      <th>17348</th>\n",
       "      <td>2015-08-31</td>\n",
       "      <td>0.078913</td>\n",
       "      <td>110.000000</td>\n",
       "    </tr>\n",
       "    <tr>\n",
       "      <th>17372</th>\n",
       "      <td>2015-09-29</td>\n",
       "      <td>0.143120</td>\n",
       "      <td>102.333333</td>\n",
       "    </tr>\n",
       "    <tr>\n",
       "      <th>17380</th>\n",
       "      <td>2015-10-08</td>\n",
       "      <td>0.064994</td>\n",
       "      <td>106.666667</td>\n",
       "    </tr>\n",
       "    <tr>\n",
       "      <th>17381</th>\n",
       "      <td>2015-10-09</td>\n",
       "      <td>0.062758</td>\n",
       "      <td>105.666667</td>\n",
       "    </tr>\n",
       "    <tr>\n",
       "      <th>17382</th>\n",
       "      <td>2015-10-11</td>\n",
       "      <td>0.062668</td>\n",
       "      <td>104.000000</td>\n",
       "    </tr>\n",
       "    <tr>\n",
       "      <th>17393</th>\n",
       "      <td>2015-10-23</td>\n",
       "      <td>0.006510</td>\n",
       "      <td>118.333333</td>\n",
       "    </tr>\n",
       "    <tr>\n",
       "      <th>17394</th>\n",
       "      <td>2015-10-25</td>\n",
       "      <td>0.004833</td>\n",
       "      <td>118.333333</td>\n",
       "    </tr>\n",
       "  </tbody>\n",
       "</table>\n",
       "</div>"
      ],
      "text/plain": [
       "             Date  return_sp500  return_13w\n",
       "17198  2015-03-05     -0.040509  107.333333\n",
       "17348  2015-08-31      0.078913  110.000000\n",
       "17372  2015-09-29      0.143120  102.333333\n",
       "17380  2015-10-08      0.064994  106.666667\n",
       "17381  2015-10-09      0.062758  105.666667\n",
       "17382  2015-10-11      0.062668  104.000000\n",
       "17393  2015-10-23      0.006510  118.333333\n",
       "17394  2015-10-25      0.004833  118.333333"
      ]
     },
     "execution_count": 6,
     "metadata": {},
     "output_type": "execute_result"
    }
   ],
   "source": [
    "df_13w.loc[df_13w[\"Date\"]==\"2015-09-29\",\"Close\"]\n",
    "df_13w.loc[df_13w[\"Date\"]==\"2015-09-29\",\"Close\"]\n",
    "print(\"2015\")\n",
    "df_13w.loc[df_13w[\"Date\"]==\"2015-09-28\",\"Close\"]\n",
    "df_13w.loc[df_13w[\"Date\"]==\"2015-09-29\",\"Close\"]\n",
    "df_13w.loc[df_13w[\"Date\"]==\"2015-09-30\",\"Close\"]\n",
    "print(\"2016\")\n",
    "df_13w.loc[df_13w[\"Date\"]==\"2016-09-28\",\"Close\"]\n",
    "df_13w.loc[df_13w[\"Date\"]==\"2016-09-29\",\"Close\"]\n",
    "df_13w.loc[df_13w[\"Date\"]==\"2016-09-30\",\"Close\"]\n",
    "\n",
    "from IPython.core.interactiveshell import InteractiveShell\n",
    "InteractiveShell.ast_node_interactivity = 'last_expr'\n",
    "\n",
    "df[df[\"return_13w\"]>100]"
   ]
  },
  {
   "cell_type": "code",
   "execution_count": 7,
   "metadata": {},
   "outputs": [
    {
     "data": {
      "image/png": "[encoded data removed]",
      "text/plain": [
       "<Figure size 432x288 with 1 Axes>"
      ]
     },
     "metadata": {
      "needs_background": "light"
     },
     "output_type": "display_data"
    },
    {
     "data": {
      "image/png": "[encoded data removed]",
      "text/plain": [
       "<Figure size 432x288 with 1 Axes>"
      ]
     },
     "metadata": {
      "needs_background": "light"
     },
     "output_type": "display_data"
    },
    {
     "data": {
      "image/png": "[encoded data removed]",
      "text/plain": [
       "<Figure size 432x288 with 1 Axes>"
      ]
     },
     "metadata": {
      "needs_background": "light"
     },
     "output_type": "display_data"
    }
   ],
   "source": [
    "def getEmpiricalDensity(df,ident):\n",
    "    df[\"value\"]=df[\"return_\"+ident]\n",
    "    # Frequency\n",
    "    stats_df = df \\\n",
    "    .groupby('value') \\\n",
    "    ['value'] \\\n",
    "    .agg('count') \\\n",
    "    .pipe(pd.DataFrame) \\\n",
    "    .rename(columns = {'value': 'frequency'})\n",
    "\n",
    "    # PDF\n",
    "    stats_df['pdf'] = stats_df['frequency'] / sum(stats_df['frequency'])\n",
    "\n",
    "    # CDF\n",
    "    stats_df['cdf'] = stats_df['pdf'].cumsum()\n",
    "    stats_df = stats_df.reset_index()\n",
    "    \n",
    "    # Plot\n",
    "    #stats_df.plot(x = 'value', y = 'pdf', grid = True)\n",
    "    stats_df.plot(x = 'value', y = 'cdf', grid = True)\n",
    "\n",
    "getEmpiricalDensity(df_13w_2,\"13w\")\n",
    "df_13w_r = df_13w_2[df_13w_2[\"return_13w\"]<1].copy()\n",
    "getEmpiricalDensity(df_13w_r,\"13w\")\n",
    "getEmpiricalDensity(df_sp500_2,\"sp500\")"
   ]
  },
  {
   "cell_type": "code",
   "execution_count": 8,
   "metadata": {},
   "outputs": [
    {
     "name": "stdout",
     "output_type": "stream",
     "text": [
      "-0.5068304382310165\n"
     ]
    },
    {
     "data": {
      "image/png": "[encoded data removed]",
      "text/plain": [
       "<Figure size 432x288 with 1 Axes>"
      ]
     },
     "metadata": {
      "needs_background": "light"
     },
     "output_type": "display_data"
    }
   ],
   "source": [
    "x1 = df[\"return_sp500\"].to_numpy()\n",
    "x2 = df[\"return_13w\"].to_numpy()\n",
    "\n",
    "print(np.min(x1))\n",
    "ax1 = plt.scatter(x1,x2,s=1)\n",
    "#ax1 =plt.plot([-0.5,0.5],[0.5,-0.5],'r')\n",
    "#plt.gca().set_aspect('equal', adjustable='box')"
   ]
  },
  {
   "cell_type": "code",
   "execution_count": 13,
   "metadata": {},
   "outputs": [
    {
     "data": {
      "image/png": "[encoded data removed]",
      "text/plain": [
       "<Figure size 432x288 with 1 Axes>"
      ]
     },
     "metadata": {
      "needs_background": "light"
     },
     "output_type": "display_data"
    }
   ],
   "source": [
    "#Let's build a MILP\n",
    "from mip import *\n",
    "\n",
    "def myopt(alpha):\n",
    "    d=2 #2-dimensional problem\n",
    "    #alpha = 0.70 #significance level\n",
    "    n_activeCon = np.ceil(n*alpha) #number of active constraints\n",
    "    VaR = -1\n",
    "\n",
    "    boundary = 10**6\n",
    "\n",
    "    m = Model(solver_name=CBC)\n",
    "    w = [ m.add_var(var_type=CONTINUOUS) for dd in range(d) ]\n",
    "    z = [ m.add_var(var_type=BINARY) for nn in range(n) ] #deactivation switches\n",
    "\n",
    "\n",
    "    #objective\n",
    "    m.objective = minimize(-(w[0]*mean_x1+w[1]*mean_x2))\n",
    "\n",
    "    #constaints\n",
    "    m += xsum(w[dd] for dd in range(d)) == 1\n",
    "    m += xsum(z[nn] for nn in range(n)) == (n-n_activeCon)\n",
    "\n",
    "    for nn in range(n):\n",
    "        m += w[0]*x1[nn]+w[1]*x2[nn] >= (VaR - z[nn]*boundary) #VaR constraint\n",
    "    \n",
    "    #obtain model summary\n",
    "    #m.write('model.lp')\n",
    "    #m.read('model.lp')\n",
    "    #print('model has {} vars, {} constraints and {} nzs'.format(m.num_cols, m.num_rows, m.num_nz))\n",
    "\n",
    "    # optimizing\n",
    "    status = m.optimize(max_seconds=10)\n",
    "    if status != OptimizationStatus.OPTIMAL:\n",
    "        print(np.round(alpha,3), status)\n",
    "    return m.vars[0].x\n",
    "\n",
    "n=len(df)\n",
    "k = 9\n",
    "mean_x1=x1.mean()\n",
    "mean_x2=x2.mean()\n",
    "alphas=np.linspace(0.1,0.9,k)\n",
    "w0Star=np.zeros(k)\n",
    "\n",
    "for i in range(k):\n",
    "    w0Star[i] = myopt(alphas[i])\n",
    "\n",
    "ax2=plt.plot(alphas,w0Star)\n",
    "ax2=plt.plot(alphas,1-w0Star,'r')"
   ]
  },
  {
   "cell_type": "code",
   "execution_count": null,
   "metadata": {},
   "outputs": [],
   "source": [
    "print(-m.objective_value)\n",
    "#for v in m.vars:\n",
    "#       print('{} : {}'.format(v.name, v.x))\n",
    "\n",
    "m.vars[0].x"
   ]
  }
 ],
 "metadata": {
  "kernelspec": {
   "display_name": "Python 3",
   "language": "python",
   "name": "python3"
  },
  "language_info": {
   "codemirror_mode": {
    "name": "ipython",
    "version": 3
   },
   "file_extension": ".py",
   "mimetype": "text/x-python",
   "name": "python",
   "nbconvert_exporter": "python",
   "pygments_lexer": "ipython3",
   "version": "3.7.9"
  }
 },
 "nbformat": 4,
 "nbformat_minor": 4
}
