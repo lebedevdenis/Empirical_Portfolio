{
 "cells": [
  {
   "cell_type": "markdown",
   "metadata": {},
   "source": [
    "# Portfolio Optimization by Shaping the Empirical Return Distribution\n",
    "\n",
    "## Contents\n",
    "1. Introduction\n",
    "2. Mathematical problem statement\n",
    "3. Implementation\n",
    "4. Numerical example\n",
    "5. Conclusion and directions for future work (scalability/parallel implementation)\n",
    "\n",
    "## 1. Introduction\n",
    "In this notebook, we present a portfolio optimization technique that seeks to maximize the expected return while accounting for a finite number of constraints related to limits of the value at risk (VaR) at one or several significance levels. We will show that this formulation makes it possible to view portfolio optimization as maximizing the mean of a distibution, that is linearly parametrized by the portfolio weights, subject to keeping the left/negative tail of the distribution below a user-defined distribution, which we will refer to as the _risk profile_. We will then bring this problem to into the form of a mixed-integer linear programming (MILP) problem and demonstrate its efficacy on a simple numerical example. Finally, we conclude and show some directions for future work.\n",
    "\n",
    "## 2. Mathematical problem statement\n",
    "Let $x \\in \\mathbb{R}^d, d \\in \\mathbb{N}$ denote a random variable describing the returns of $d$ assets. Let $D:=\\{1,2,\\dots,d\\}$ and let $w\\in W:=[0,1]^d$, such that $\\sum_{i\\in D} w_i = 1$, denote the weights of the assets in the portfolio. Then the (random) portfolio return is $\\mathbb{E}[x]^\\top w$, where $\\mathbb{E}[\\cdot]$ denotes the (element-wise) expectation operator associated with the distribution of each of the $d$ assets.\n",
    "\n",
    "Since the exact expectation is unavailable in practice, we replace $\\mathbb{E}[x]$ in the expression above by $\\bar{x}\\in \\mathbb{R}^d$, which denotes the empirical mean return of $x$ from $n\\in \\mathbb{N}$ observations $x^{(n)}$, i.e. $\\bar{x}_i = \\frac{1}{n}\\sum_n x_i^{(n)}$. Hence, our maximisation objective becomes \n",
    "\\begin{equation}\n",
    "\\underset{w\\in W}{\\max}\\bar{x}^\\top w,\n",
    "\\end{equation}\n",
    "which is linear in $w$. Let us now focus on the additional constraints that we seek to enforce. To this end, define two vector-valued parameters, $A\\in [0,1]^k$ and $V\\in\\mathbb{R}^k$, where $k\\in \\mathbb{N}$. These are significance levels and corresponding values at risk. For example $A:=[0.01,0.05]$ and $V:=[-0.2,-0.1]$ would denote two VaR constraints, i.e. the 1% value at risk should be no smaller than -20% and the 5% value at risk should be no smaller than -10%. The constraints are then formulated, using an additional auxiliary variable $z^{(a)}\\in [0,1]^n$ for all $a \\in K:=\\{1,2,\\dots,k\\}$, as\n",
    "\n",
    "\\begin{align}\n",
    "\\sum_{i\\in N} z^{(a)}_i =& n A_a \\text{, for all } a \\in K,\\\\\n",
    "x_i^\\top w \\geq& V_a - M(1-z^{(a)}_i) \\text{, for all } (a,i) \\in K\\times N,\n",
    "\\end{align}\n",
    "\n",
    "where $M\\in \\mathbb{R}_++$ is sufficiently large, such that the inequality is always satisfied when $z^{(a)}_i=1$, for all choices of $w\\in W$. Hence, this reformulation is also known as the big $M$ method. The first equality constraint ensures that for any VaR condition $a\\in K$, the number of $z^{(a)}_i=1$ equal the fraction of samples $n$, i.e. $z^{(a)}$ is a selector variable that ensures that sufficiently many constraints need to be satisfied, i.e. if $z^{(a)}_i =1$, then the weights $w$ must be chosen such that $x_i^\\top w \\geq V_a$. This ensures that the VaR constraint is satisfied. Combining the objective and the constraints, we are now ready to implement this problem in Python.\n",
    "\n",
    "## 3. Imlementation\n",
    "We use Pyhon and the $\\texttt{mip}$ package (https://www.python-mip.com/) for mixed-integer linear programming and formulat the optimization routine by means of the following function:"
   ]
  },
  {
   "cell_type": "code",
   "execution_count": 34,
   "metadata": {},
   "outputs": [],
   "source": [
    "def portfolioMILP(X, alpha=[0.05], VaR=[0], M = 2, max_weight=1, max_s = 10, abs_gap=1e-3):\n",
    "    \"\"\"\n",
    "    Optimizes portfolio weights in a Mixed-Integer Linear Programming (MILP) setting, based on data X with n rows (observations)\n",
    "    and d columns (assets), given a list (even if only a single value is desired!) of values at risk (VaR) at significance levels alpha, respectively. The variable\n",
    "    \"M\" is used in a big M method trick to linearise the constraints. \"max_weights\" defines the maximum weight of an asset,\n",
    "    \"max_s\" defines the maximum computation time, \"abs_gap\" defines the absolute gap between upper bound and lower bound on the solution,\n",
    "    upon which the algorithm shall terminate.\n",
    "    \"\"\"\n",
    "    \n",
    "    n,d = X.shape\n",
    "    X_mean = X.mean(axis=0)\n",
    "    print(f\"Optimizing over {d} assets using {n} samples\")\n",
    "    \n",
    "    n_alpha = len(alpha)\n",
    "    V=[[] for i in range(n_alpha)]\n",
    "    \n",
    "    m = Model(solver_name=CBC)\n",
    "    m.max_mip_gap_abs = abs_gap\n",
    "    \n",
    "    w = [ m.add_var(var_type=CONTINUOUS) for dd in range(d) ] #decision variables (asset weights)\n",
    "    m.objective = minimize(-xsum(w[dd]*X_mean[dd] for dd in range(d))) #objective function\n",
    "    m += xsum(w[dd] for dd in range(d)) == 1 #asset weights sum to 1\n",
    "    \n",
    "    #VaR constraints\n",
    "    for aa in range(n_alpha): #for all VaR constraints\n",
    "        n_activeCon = np.ceil(n*(1-alpha[aa])) #number of constraints that need to be active at solution\n",
    "        \n",
    "        v = [] #indices of violation samples (samples for which a feasible w exists that would violate the VaR constraint)\n",
    "        for i in range(n):\n",
    "            if any(X[i,:] < VaR[aa]): #else, no weights w lead to a return of sample i to be less than the VaR\n",
    "                v.append(i)\n",
    "        n_v = len(v) \n",
    "        V[aa] = v #useful for visualising the solution\n",
    "\n",
    "        z = [m.add_var(name=f\"z_{aa}_{vv}\",var_type=BINARY) for vv in range(n_v) ] #selector variable for active constraints\n",
    "        m += xsum(m.var_by_name(f'z_{aa}_{vv}') for vv in range(n_v)) == max(0,n_activeCon - (n-n_v)) #n-n_v constraints always satisfied\n",
    "        for vv in range(n_v):\n",
    "            m += xsum(w[dd]*X[v[vv],dd] for dd in range(d)) >= (VaR[aa] - (1-m.var_by_name(f'z_{aa}_{vv}'))*M) #linearized VaR constraint using bigg M notation\n",
    "    \n",
    "    #weight constraints\n",
    "    if type(max_weight) != list and max_weight != 1: \n",
    "        for dd in range(d):\n",
    "            m += w[dd] <= max_weight\n",
    "    else:\n",
    "        for dd in range(d):\n",
    "            m += w[dd] <= max_weight[dd]\n",
    "\n",
    "    #obtain model summary\n",
    "    m.write('model.lp')\n",
    "    m.read('model.lp')\n",
    "    print('The model has {} vars, {} constraints and {} nzs'.format(m.num_cols, m.num_rows, m.num_nz))\n",
    "\n",
    "    # optimizing\n",
    "    status = m.optimize(max_seconds = max_s)\n",
    "    if status != OptimizationStatus.OPTIMAL:\n",
    "        print(np.round(alpha,3), np.round(VaR,3), status) #if solution not optimal, print details\n",
    "    return m,V"
   ]
  },
  {
   "cell_type": "markdown",
   "metadata": {},
   "source": [
    "## 4. Numerical Example\n",
    "\n",
    "We now consider a simple 2-dimensional example ($d=2$), where the two assets are the S&P 500 index (\"gspc\") and the gold price (\"gold\"). For the purpose of this simple example we ignore any other costs related to the investment or its liquidation (e.g. taxes). We use the following helper function to \n",
    "* extract the data from \".csv\"-files,\n",
    "* fill in missing values for days without trade (e.g. weekends),\n",
    "* to select the common period for all assets\n",
    "* and to store the results in a pandas data frame."
   ]
  },
  {
   "cell_type": "code",
   "execution_count": 84,
   "metadata": {},
   "outputs": [],
   "source": [
    "def loadData(files, days):\n",
    "    \"\"\"\n",
    "    Reads csv \"files\", fills in missing dates and close prices, computes annualized returns over the number of \"days\" and returns a pandas \n",
    "    data frame.\n",
    "    \"\"\"\n",
    "    years=days/365 #used to compute annualized returns\n",
    "    dataFrames_in = []\n",
    "    start_dates = [] \n",
    "    end_dates =[] #used to find greatest common trade period\n",
    "    \n",
    "    for file in files:\n",
    "        df_in = pd.read_csv('C:/Users/worc3920/Documents/GitHub/EmpiricalPortfolio/data/'+file+'.csv', usecols=[\"Date\",\"Close\"]) #file path may depend on your project\n",
    "        df_in = df_in.rename(columns={\"Close\": \"Close_\" + file})\n",
    "        df_in[\"Date\"]=pd.to_datetime(df_in[\"Date\"], infer_datetime_format=True)\n",
    "        dataFrames_in.append(df_in)\n",
    "        start_dates.append(df_in.loc[0,\"Date\"])\n",
    "        end_dates.append(df_in.loc[df_in.index[-1],\"Date\"])\n",
    "    \n",
    "    df_start = max(start_dates) #select latest common start date\n",
    "    df_end = min(end_dates) #select earliest common end date, hence data available for all selected dates and assets\n",
    "    df = pd.DataFrame()\n",
    "    df[\"Date\"] = pd.date_range(start=df_start, end=df_end)\n",
    "\n",
    "    for i in range(len(files)):\n",
    "        df = df.merge(dataFrames_in[i], on='Date', how='left') #combine data frames\n",
    "    for file in files:\n",
    "        #Ensure no NaN values at the beginning of the data set\n",
    "        j=0\n",
    "        while True:\n",
    "            if np.isnan(df.loc[j,\"Close_\" + file]):\n",
    "                j += 1\n",
    "            else:\n",
    "                df.loc[0:j-1,\"Close_\" + file] = df.loc[j,\"Close_\" + file]\n",
    "                break\n",
    "        #Replace NaN values by previous (valid) value\n",
    "        for i in range(0,len(df)):\n",
    "            if np.isnan(df.loc[i,\"Close_\" + file]):\n",
    "                df.loc[i, \"Close_\" + file] = df.loc[i-1, \"Close_\"+file]\n",
    "        \n",
    "        #Compute return, assuming that negative final values will be replaced by 0\n",
    "        for i in range(len(df)-days):\n",
    "            df.loc[i, \"Return_\" + file] = (np.max([0,df.loc[i+days, \"Close_\"+file]])/df.loc[i, \"Close_\"+file])**(1/years)-1 #annual. return\n",
    "    #drop last days entries, for which no return could be computed\n",
    "    return df.drop(columns=[\"Close_\" + file for file in files]).iloc[:-days-1]"
   ]
  },
  {
   "cell_type": "markdown",
   "metadata": {},
   "source": [
    "Let us begin by loading all required packages and obtaining the data using the above helper function:"
   ]
  },
  {
   "cell_type": "code",
   "execution_count": 85,
   "metadata": {
    "scrolled": true
   },
   "outputs": [],
   "source": [
    "import numpy as np\n",
    "import matplotlib.pyplot as plt\n",
    "from matplotlib import cm\n",
    "import matplotlib.colors as colors\n",
    "import pandas as pd\n",
    "import datetime\n",
    "import warnings\n",
    "from mip import *\n",
    "import time\n",
    "\n",
    "#read data and show summary\n",
    "#files = [\"gspc\",\"gold\",\"n225\",\"hsi\",\"oil\"]\n",
    "files = [\"gspc\",\"gold\",\"hsi\"]\n",
    "days=15*365\n",
    "df = loadData(files, days)\n",
    "fileR = [\"Return_\"+file for file in files]"
   ]
  },
  {
   "cell_type": "code",
   "execution_count": 86,
   "metadata": {},
   "outputs": [
    {
     "data": {
      "text/html": [
       "<div>\n",
       "<style scoped>\n",
       "    .dataframe tbody tr th:only-of-type {\n",
       "        vertical-align: middle;\n",
       "    }\n",
       "\n",
       "    .dataframe tbody tr th {\n",
       "        vertical-align: top;\n",
       "    }\n",
       "\n",
       "    .dataframe thead th {\n",
       "        text-align: right;\n",
       "    }\n",
       "</style>\n",
       "<table border=\"1\" class=\"dataframe\">\n",
       "  <thead>\n",
       "    <tr style=\"text-align: right;\">\n",
       "      <th></th>\n",
       "      <th>Return_gspc</th>\n",
       "      <th>Return_gold</th>\n",
       "      <th>Return_hsi</th>\n",
       "      <th>equal_split</th>\n",
       "    </tr>\n",
       "  </thead>\n",
       "  <tbody>\n",
       "    <tr>\n",
       "      <th>count</th>\n",
       "      <td>6964.00</td>\n",
       "      <td>6964.00</td>\n",
       "      <td>6964.00</td>\n",
       "      <td>6964.00</td>\n",
       "    </tr>\n",
       "    <tr>\n",
       "      <th>mean</th>\n",
       "      <td>0.06</td>\n",
       "      <td>0.07</td>\n",
       "      <td>0.07</td>\n",
       "      <td>0.06</td>\n",
       "    </tr>\n",
       "    <tr>\n",
       "      <th>std</th>\n",
       "      <td>0.02</td>\n",
       "      <td>0.04</td>\n",
       "      <td>0.03</td>\n",
       "      <td>0.01</td>\n",
       "    </tr>\n",
       "    <tr>\n",
       "      <th>min</th>\n",
       "      <td>0.01</td>\n",
       "      <td>-0.03</td>\n",
       "      <td>0.00</td>\n",
       "      <td>0.03</td>\n",
       "    </tr>\n",
       "    <tr>\n",
       "      <th>25%</th>\n",
       "      <td>0.04</td>\n",
       "      <td>0.04</td>\n",
       "      <td>0.04</td>\n",
       "      <td>0.06</td>\n",
       "    </tr>\n",
       "    <tr>\n",
       "      <th>50%</th>\n",
       "      <td>0.06</td>\n",
       "      <td>0.08</td>\n",
       "      <td>0.06</td>\n",
       "      <td>0.07</td>\n",
       "    </tr>\n",
       "    <tr>\n",
       "      <th>75%</th>\n",
       "      <td>0.08</td>\n",
       "      <td>0.10</td>\n",
       "      <td>0.09</td>\n",
       "      <td>0.07</td>\n",
       "    </tr>\n",
       "    <tr>\n",
       "      <th>max</th>\n",
       "      <td>0.11</td>\n",
       "      <td>0.13</td>\n",
       "      <td>0.12</td>\n",
       "      <td>0.09</td>\n",
       "    </tr>\n",
       "  </tbody>\n",
       "</table>\n",
       "</div>"
      ],
      "text/plain": [
       "       Return_gspc  Return_gold  Return_hsi  equal_split\n",
       "count      6964.00      6964.00     6964.00      6964.00\n",
       "mean          0.06         0.07        0.07         0.06\n",
       "std           0.02         0.04        0.03         0.01\n",
       "min           0.01        -0.03        0.00         0.03\n",
       "25%           0.04         0.04        0.04         0.06\n",
       "50%           0.06         0.08        0.06         0.07\n",
       "75%           0.08         0.10        0.09         0.07\n",
       "max           0.11         0.13        0.12         0.09"
      ]
     },
     "execution_count": 86,
     "metadata": {},
     "output_type": "execute_result"
    }
   ],
   "source": [
    "df[\"equal_split\"]=(df[fileR].sum(axis=1))/len(files)\n",
    "np.round(df.describe(),2)"
   ]
  },
  {
   "cell_type": "code",
   "execution_count": 87,
   "metadata": {},
   "outputs": [
    {
     "name": "stdout",
     "output_type": "stream",
     "text": [
      "[0.1 1. ]\n",
      "[3.27 3.64]\n"
     ]
    }
   ],
   "source": [
    "percentiles = [0.001,0.01]#,0.05]\n",
    "n_df = len(df)\n",
    "myVaR = np.sort(df[\"equal_split\"].to_numpy())[[int(np.round(n_df*percentiles[i])) for i in range(len(percentiles))]]\n",
    "print(np.array(percentiles)*100) #percentiles in percent\n",
    "print(np.round(myVaR*100,2)) #VaR in percent"
   ]
  },
  {
   "cell_type": "code",
   "execution_count": 88,
   "metadata": {},
   "outputs": [
    {
     "data": {
      "text/html": [
       "<div>\n",
       "<style scoped>\n",
       "    .dataframe tbody tr th:only-of-type {\n",
       "        vertical-align: middle;\n",
       "    }\n",
       "\n",
       "    .dataframe tbody tr th {\n",
       "        vertical-align: top;\n",
       "    }\n",
       "\n",
       "    .dataframe thead th {\n",
       "        text-align: right;\n",
       "    }\n",
       "</style>\n",
       "<table border=\"1\" class=\"dataframe\">\n",
       "  <thead>\n",
       "    <tr style=\"text-align: right;\">\n",
       "      <th></th>\n",
       "      <th>Return_gspc</th>\n",
       "      <th>Return_gold</th>\n",
       "      <th>Return_hsi</th>\n",
       "    </tr>\n",
       "  </thead>\n",
       "  <tbody>\n",
       "    <tr>\n",
       "      <th>Return_gspc</th>\n",
       "      <td>1.000000</td>\n",
       "      <td>-0.782166</td>\n",
       "      <td>0.847736</td>\n",
       "    </tr>\n",
       "    <tr>\n",
       "      <th>Return_gold</th>\n",
       "      <td>-0.782166</td>\n",
       "      <td>1.000000</td>\n",
       "      <td>-0.746408</td>\n",
       "    </tr>\n",
       "    <tr>\n",
       "      <th>Return_hsi</th>\n",
       "      <td>0.847736</td>\n",
       "      <td>-0.746408</td>\n",
       "      <td>1.000000</td>\n",
       "    </tr>\n",
       "  </tbody>\n",
       "</table>\n",
       "</div>"
      ],
      "text/plain": [
       "             Return_gspc  Return_gold  Return_hsi\n",
       "Return_gspc     1.000000    -0.782166    0.847736\n",
       "Return_gold    -0.782166     1.000000   -0.746408\n",
       "Return_hsi      0.847736    -0.746408    1.000000"
      ]
     },
     "execution_count": 88,
     "metadata": {},
     "output_type": "execute_result"
    }
   ],
   "source": [
    "df[fileR].corr()"
   ]
  },
  {
   "cell_type": "code",
   "execution_count": 44,
   "metadata": {},
   "outputs": [
    {
     "ename": "KeyError",
     "evalue": "None",
     "output_type": "error",
     "traceback": [
      "\u001b[1;31m---------------------------------------------------------------------------\u001b[0m",
      "\u001b[1;31mKeyError\u001b[0m                                  Traceback (most recent call last)",
      "\u001b[1;32m~\\AppData\\Local\\Continuum\\anaconda3\\lib\\site-packages\\pandas\\core\\indexes\\base.py\u001b[0m in \u001b[0;36mget_loc\u001b[1;34m(self, key, method, tolerance)\u001b[0m\n\u001b[0;32m   3079\u001b[0m             \u001b[1;32mtry\u001b[0m\u001b[1;33m:\u001b[0m\u001b[1;33m\u001b[0m\u001b[1;33m\u001b[0m\u001b[0m\n\u001b[1;32m-> 3080\u001b[1;33m                 \u001b[1;32mreturn\u001b[0m \u001b[0mself\u001b[0m\u001b[1;33m.\u001b[0m\u001b[0m_engine\u001b[0m\u001b[1;33m.\u001b[0m\u001b[0mget_loc\u001b[0m\u001b[1;33m(\u001b[0m\u001b[0mcasted_key\u001b[0m\u001b[1;33m)\u001b[0m\u001b[1;33m\u001b[0m\u001b[1;33m\u001b[0m\u001b[0m\n\u001b[0m\u001b[0;32m   3081\u001b[0m             \u001b[1;32mexcept\u001b[0m \u001b[0mKeyError\u001b[0m \u001b[1;32mas\u001b[0m \u001b[0merr\u001b[0m\u001b[1;33m:\u001b[0m\u001b[1;33m\u001b[0m\u001b[1;33m\u001b[0m\u001b[0m\n",
      "\u001b[1;32mpandas\\_libs\\index.pyx\u001b[0m in \u001b[0;36mpandas._libs.index.IndexEngine.get_loc\u001b[1;34m()\u001b[0m\n",
      "\u001b[1;32mpandas\\_libs\\index.pyx\u001b[0m in \u001b[0;36mpandas._libs.index.IndexEngine.get_loc\u001b[1;34m()\u001b[0m\n",
      "\u001b[1;32mpandas\\_libs\\hashtable_class_helper.pxi\u001b[0m in \u001b[0;36mpandas._libs.hashtable.PyObjectHashTable.get_item\u001b[1;34m()\u001b[0m\n",
      "\u001b[1;32mpandas\\_libs\\hashtable_class_helper.pxi\u001b[0m in \u001b[0;36mpandas._libs.hashtable.PyObjectHashTable.get_item\u001b[1;34m()\u001b[0m\n",
      "\u001b[1;31mKeyError\u001b[0m: None",
      "\nThe above exception was the direct cause of the following exception:\n",
      "\u001b[1;31mKeyError\u001b[0m                                  Traceback (most recent call last)",
      "\u001b[1;32m<ipython-input-44-41bfb58819f0>\u001b[0m in \u001b[0;36m<module>\u001b[1;34m\u001b[0m\n\u001b[0;32m      1\u001b[0m \u001b[0mfig\u001b[0m\u001b[1;33m,\u001b[0m \u001b[0max\u001b[0m \u001b[1;33m=\u001b[0m \u001b[0mplt\u001b[0m\u001b[1;33m.\u001b[0m\u001b[0msubplots\u001b[0m\u001b[1;33m(\u001b[0m\u001b[0mfigsize\u001b[0m\u001b[1;33m=\u001b[0m\u001b[1;33m(\u001b[0m\u001b[1;36m12\u001b[0m\u001b[1;33m,\u001b[0m \u001b[1;36m8\u001b[0m\u001b[1;33m)\u001b[0m\u001b[1;33m)\u001b[0m\u001b[1;33m\u001b[0m\u001b[1;33m\u001b[0m\u001b[0m\n\u001b[1;32m----> 2\u001b[1;33m \u001b[0max\u001b[0m\u001b[1;33m.\u001b[0m\u001b[0mplot\u001b[0m\u001b[1;33m(\u001b[0m\u001b[0mdf\u001b[0m\u001b[1;33m[\u001b[0m\u001b[1;34m\"Date\"\u001b[0m\u001b[1;33m]\u001b[0m\u001b[1;33m,\u001b[0m \u001b[0mdf\u001b[0m\u001b[1;33m[\u001b[0m\u001b[0mfileR\u001b[0m\u001b[1;33m.\u001b[0m\u001b[0mappend\u001b[0m\u001b[1;33m(\u001b[0m\u001b[1;34m\"equal_split\"\u001b[0m\u001b[1;33m)\u001b[0m\u001b[1;33m]\u001b[0m\u001b[1;33m,\u001b[0m \u001b[0mlinewidth\u001b[0m\u001b[1;33m=\u001b[0m\u001b[1;36m0.5\u001b[0m\u001b[1;33m)\u001b[0m\u001b[1;33m\u001b[0m\u001b[1;33m\u001b[0m\u001b[0m\n\u001b[0m\u001b[0;32m      3\u001b[0m \u001b[0max\u001b[0m\u001b[1;33m.\u001b[0m\u001b[0mlegend\u001b[0m\u001b[1;33m(\u001b[0m\u001b[0mfileR\u001b[0m\u001b[1;33m.\u001b[0m\u001b[0mappend\u001b[0m\u001b[1;33m(\u001b[0m\u001b[1;34m\"equal_split\"\u001b[0m\u001b[1;33m)\u001b[0m\u001b[1;33m)\u001b[0m\u001b[1;33m\u001b[0m\u001b[1;33m\u001b[0m\u001b[0m\n\u001b[0;32m      4\u001b[0m \u001b[0max\u001b[0m\u001b[1;33m.\u001b[0m\u001b[0mset_ylim\u001b[0m\u001b[1;33m(\u001b[0m\u001b[1;33m(\u001b[0m\u001b[1;33m-\u001b[0m\u001b[1;36m0.1\u001b[0m\u001b[1;33m,\u001b[0m\u001b[1;36m0.17\u001b[0m\u001b[1;33m)\u001b[0m\u001b[1;33m)\u001b[0m\u001b[1;33m\u001b[0m\u001b[1;33m\u001b[0m\u001b[0m\n",
      "\u001b[1;32m~\\AppData\\Local\\Continuum\\anaconda3\\lib\\site-packages\\pandas\\core\\frame.py\u001b[0m in \u001b[0;36m__getitem__\u001b[1;34m(self, key)\u001b[0m\n\u001b[0;32m   3022\u001b[0m             \u001b[1;32mif\u001b[0m \u001b[0mself\u001b[0m\u001b[1;33m.\u001b[0m\u001b[0mcolumns\u001b[0m\u001b[1;33m.\u001b[0m\u001b[0mnlevels\u001b[0m \u001b[1;33m>\u001b[0m \u001b[1;36m1\u001b[0m\u001b[1;33m:\u001b[0m\u001b[1;33m\u001b[0m\u001b[1;33m\u001b[0m\u001b[0m\n\u001b[0;32m   3023\u001b[0m                 \u001b[1;32mreturn\u001b[0m \u001b[0mself\u001b[0m\u001b[1;33m.\u001b[0m\u001b[0m_getitem_multilevel\u001b[0m\u001b[1;33m(\u001b[0m\u001b[0mkey\u001b[0m\u001b[1;33m)\u001b[0m\u001b[1;33m\u001b[0m\u001b[1;33m\u001b[0m\u001b[0m\n\u001b[1;32m-> 3024\u001b[1;33m             \u001b[0mindexer\u001b[0m \u001b[1;33m=\u001b[0m \u001b[0mself\u001b[0m\u001b[1;33m.\u001b[0m\u001b[0mcolumns\u001b[0m\u001b[1;33m.\u001b[0m\u001b[0mget_loc\u001b[0m\u001b[1;33m(\u001b[0m\u001b[0mkey\u001b[0m\u001b[1;33m)\u001b[0m\u001b[1;33m\u001b[0m\u001b[1;33m\u001b[0m\u001b[0m\n\u001b[0m\u001b[0;32m   3025\u001b[0m             \u001b[1;32mif\u001b[0m \u001b[0mis_integer\u001b[0m\u001b[1;33m(\u001b[0m\u001b[0mindexer\u001b[0m\u001b[1;33m)\u001b[0m\u001b[1;33m:\u001b[0m\u001b[1;33m\u001b[0m\u001b[1;33m\u001b[0m\u001b[0m\n\u001b[0;32m   3026\u001b[0m                 \u001b[0mindexer\u001b[0m \u001b[1;33m=\u001b[0m \u001b[1;33m[\u001b[0m\u001b[0mindexer\u001b[0m\u001b[1;33m]\u001b[0m\u001b[1;33m\u001b[0m\u001b[1;33m\u001b[0m\u001b[0m\n",
      "\u001b[1;32m~\\AppData\\Local\\Continuum\\anaconda3\\lib\\site-packages\\pandas\\core\\indexes\\base.py\u001b[0m in \u001b[0;36mget_loc\u001b[1;34m(self, key, method, tolerance)\u001b[0m\n\u001b[0;32m   3080\u001b[0m                 \u001b[1;32mreturn\u001b[0m \u001b[0mself\u001b[0m\u001b[1;33m.\u001b[0m\u001b[0m_engine\u001b[0m\u001b[1;33m.\u001b[0m\u001b[0mget_loc\u001b[0m\u001b[1;33m(\u001b[0m\u001b[0mcasted_key\u001b[0m\u001b[1;33m)\u001b[0m\u001b[1;33m\u001b[0m\u001b[1;33m\u001b[0m\u001b[0m\n\u001b[0;32m   3081\u001b[0m             \u001b[1;32mexcept\u001b[0m \u001b[0mKeyError\u001b[0m \u001b[1;32mas\u001b[0m \u001b[0merr\u001b[0m\u001b[1;33m:\u001b[0m\u001b[1;33m\u001b[0m\u001b[1;33m\u001b[0m\u001b[0m\n\u001b[1;32m-> 3082\u001b[1;33m                 \u001b[1;32mraise\u001b[0m \u001b[0mKeyError\u001b[0m\u001b[1;33m(\u001b[0m\u001b[0mkey\u001b[0m\u001b[1;33m)\u001b[0m \u001b[1;32mfrom\u001b[0m \u001b[0merr\u001b[0m\u001b[1;33m\u001b[0m\u001b[1;33m\u001b[0m\u001b[0m\n\u001b[0m\u001b[0;32m   3083\u001b[0m \u001b[1;33m\u001b[0m\u001b[0m\n\u001b[0;32m   3084\u001b[0m         \u001b[1;32mif\u001b[0m \u001b[0mtolerance\u001b[0m \u001b[1;32mis\u001b[0m \u001b[1;32mnot\u001b[0m \u001b[1;32mNone\u001b[0m\u001b[1;33m:\u001b[0m\u001b[1;33m\u001b[0m\u001b[1;33m\u001b[0m\u001b[0m\n",
      "\u001b[1;31mKeyError\u001b[0m: None"
     ]
    },
    {
     "data": {
      "image/png": "[encoded data removed]",
      "text/plain": [
       "<Figure size 864x576 with 1 Axes>"
      ]
     },
     "metadata": {
      "needs_background": "light"
     },
     "output_type": "display_data"
    }
   ],
   "source": [
    "fig, ax = plt.subplots(figsize=(12, 8))\n",
    "ax.plot(df[\"Date\"], df[fileR.append(\"equal_split\")], linewidth=0.5)\n",
    "ax.legend(fileR.append(\"equal_split\"))\n",
    "ax.set_ylim((-0.1,0.17))"
   ]
  },
  {
   "cell_type": "markdown",
   "metadata": {},
   "source": [
    "Notice that an equal allocation to both assets would result in a mean between the means of the individual assets, but the standard error (std) is smaller."
   ]
  },
  {
   "cell_type": "code",
   "execution_count": 89,
   "metadata": {},
   "outputs": [],
   "source": [
    "X = df[fileR].to_numpy()"
   ]
  },
  {
   "cell_type": "code",
   "execution_count": 52,
   "metadata": {},
   "outputs": [
    {
     "name": "stdout",
     "output_type": "stream",
     "text": [
      "Optimizing over 3 assets using 6964 samples\n",
      "The model has 7340 vars, 7343 constraints and 36683 nzs\n",
      "OptimizationStatus.OPTIMAL\n",
      "The optimal asset allocation is [0.42 0.33 0.25]\n",
      "Portfolio return: 6.38 %\n",
      "Portfolio std: 1.03 %\n"
     ]
    }
   ],
   "source": [
    "#Select data and VaR constraints\n",
    "\n",
    "alpha = percentiles#[0.001, 0.01, 0.02]#[0.001, 0.01, 0.1]#[0.001, 0.01, 0.10]\n",
    "VaR = myVaR+0.001 #[0.03, 0.035, 0.04]#[0.02, 0.03, 0.04]#[-0.05, -0.02, 0.01]\n",
    "\n",
    "skip = 1 #to speed up the solution process, we only select every \"skip\"-th row for this example\n",
    "m,V = portfolioMILP(X[::skip,:], alpha, VaR, max_s = 60, max_weight=0.6) #run MILP for at most max_s seconds\n",
    "\n",
    "if m.status == OptimizationStatus.OPTIMAL or m.status == OptimizationStatus.FEASIBLE:\n",
    "    wStar = [m.vars[i].x for i in range(np.shape(X)[1])] #optimal weights\n",
    "    print(m.status)\n",
    "    print(\"The optimal asset allocation is \"+str(np.round(wStar,2)))\n",
    "    print(\"Portfolio return: \"+str(np.round(sum(wStar*X.mean(axis=0))*100,2))+\" %\")\n",
    "    print(\"Portfolio std: \"+str(np.round(np.std([sum(wStar*X[i,:]) for i in range(X.shape[0])])*100,2))+\" %\")"
   ]
  },
  {
   "cell_type": "code",
   "execution_count": 101,
   "metadata": {},
   "outputs": [],
   "source": [
    "############TIME SERIES FUN STARTS HERE ###################\n",
    "#VARIMA p,i,q where lags are shifted by the investment horizon\n",
    "\n",
    "from statsmodels.tsa.statespace.varmax import VARMAX\n",
    "\n",
    "def lagVARIMA(X=X, p=3, i=0, q=2, lag=int(days/365)):\n",
    "    #difference data\n",
    "    n,d=np.shape(X)\n",
    "    \n",
    "    #differencing updates X\n",
    "    for dd in range(d):\n",
    "        X[dd:-1,:] = X[dd+1:,:]-X[dd:-1,:]\n",
    "        X=X[:-1,:]\n",
    "    n -= d\n",
    "    \n",
    "    #build constraint dictionary\n",
    "    con = dict()\n",
    "    for l1 in range(1,lag+1):\n",
    "        for d1 in range(1,dd+1):\n",
    "            for d2 in range(1,d1+1):\n",
    "                con[f'L{l1}.y{d1}.y{d2}'] = 0\n",
    "                #con[f'L{l1}.e(y{d1}).y{d2}'] = 0\n",
    "    \n",
    "    #fit model\n",
    "    model = VARMAX(X, order=(lag+p, 0), enforce_stationarity=False, enforce_invertibility=False, verbose=True,  initialization='approximate_diffuse' )\n",
    "    res = model.fit_constrained(con)\n",
    "    return res\n"
   ]
  },
  {
   "cell_type": "code",
   "execution_count": null,
   "metadata": {},
   "outputs": [],
   "source": [
    "skip=1\n",
    "res = lagVARIMA(X[::skip,:]-X.mean(axis=0), p=3, q=0)"
   ]
  },
  {
   "cell_type": "code",
   "execution_count": null,
   "metadata": {},
   "outputs": [],
   "source": [
    "res.summary()"
   ]
  },
  {
   "cell_type": "markdown",
   "metadata": {},
   "source": [
    "We can now visualize the result to see how the MILP algorithm has segmented the distribution according to the VaR constraints:"
   ]
  },
  {
   "cell_type": "code",
   "execution_count": 123,
   "metadata": {},
   "outputs": [],
   "source": [
    "def plotDistribution(X, m, V, alpha, i0=0, i1=1, names=[\"SP500\",\"HSI\"], cmap_str = 'gist_rainbow', markersize=5, fig_size=(8,6)):\n",
    "    x1=X[:,i0]\n",
    "    x2=X[:,i1]\n",
    "    \n",
    "    n_x=len(x1)\n",
    "    d=2\n",
    "    n_alpha=len(alpha)\n",
    "    dropped=[[] for i in range(n_alpha)]\n",
    "    kept=list(range(n_x))\n",
    "\n",
    "    for aa in range(n_alpha):\n",
    "        for vv in range(len(V[aa])):\n",
    "            if m.var_by_name(f'z_{aa}_{vv}').x == 0:\n",
    "                dropped[aa].append(V[aa][vv])\n",
    "\n",
    "    fig=plt.figure(figsize = fig_size, dpi = 100)\n",
    "    cmap=plt.cm.get_cmap(cmap_str,n_alpha)\n",
    "    \n",
    "    plt.scatter(x1[kept],x2[kept],s=markersize,c='grey')\n",
    "    for aa in reversed(range(n_alpha)):\n",
    "        plt.scatter(x1[dropped[aa]],x2[dropped[aa]],s=markersize,color=cmap(aa/(n_alpha)))\n",
    "    \n",
    "    plt.grid(True)\n",
    "    plt.xlabel(names[0])\n",
    "    plt.ylabel(names[1])\n",
    "    plt.title('Annual returns')\n",
    "\n",
    "    plt.gca().set_aspect('equal', adjustable='box')\n",
    "    return x1, x2, cmap"
   ]
  },
  {
   "cell_type": "code",
   "execution_count": 144,
   "metadata": {},
   "outputs": [
    {
     "data": {
      "image/png": "[encoded data removed]",
      "text/plain": [
       "<Figure size 800x600 with 1 Axes>"
      ]
     },
     "metadata": {
      "needs_background": "light"
     },
     "output_type": "display_data"
    }
   ],
   "source": [
    "x1, x2, cmap = plotDistribution(X[::skip,:], m, V, alpha, markersize=5)"
   ]
  },
  {
   "cell_type": "code",
   "execution_count": 36,
   "metadata": {},
   "outputs": [],
   "source": [
    "def getEmpiricalDensity(series):\n",
    "    df2=pd.DataFrame()\n",
    "    df2[\"value\"]=series\n",
    "    # Frequency\n",
    "    stats_df = df2 \\\n",
    "    .groupby('value') \\\n",
    "    ['value'] \\\n",
    "    .agg('count') \\\n",
    "    .pipe(pd.DataFrame) \\\n",
    "    .rename(columns = {'value': 'frequency'})\n",
    "\n",
    "    # PDF\n",
    "    stats_df['pdf'] = stats_df['frequency'] / sum(stats_df['frequency'])\n",
    "\n",
    "    # CDF\n",
    "    stats_df['cdf'] = stats_df['pdf'].cumsum()\n",
    "    stats_df = stats_df.reset_index()\n",
    "    \n",
    "    # Plot\n",
    "    ax = stats_df.plot(x = 'value', y = 'cdf', #xlim=(-0.1,0.1), \n",
    "                       grid = True,legend=False)\n",
    "    return ax"
   ]
  },
  {
   "cell_type": "code",
   "execution_count": 145,
   "metadata": {},
   "outputs": [
    {
     "data": {
      "image/png": "[encoded data removed]",
      "text/plain": [
       "<Figure size 432x288 with 1 Axes>"
      ]
     },
     "metadata": {
      "needs_background": "light"
     },
     "output_type": "display_data"
    }
   ],
   "source": [
    "Xskip=X[::skip,:]\n",
    "R = np.sort([sum(wStar*Xskip[i,:]) for i in range(len(Xskip))])\n",
    "add_length=0.01\n",
    "getEmpiricalDensity(pd.Series(R))\n",
    "for i in range(len(VaR)):\n",
    "    plt.arrow(x=np.min(R)-add_length, dx=VaR[i]-np.min(R)+add_length, y=alpha[i], dy=0, color=cmap(i/len(alpha)), length_includes_head = True,\n",
    "                   head_width=0,head_length=0)\n",
    "plt.xlabel('Empirical portfolio return')\n",
    "plt.ylabel('Probability')\n",
    "plt.title('Empirical cumulative distribution function of portfolio returns')\n",
    "\n",
    "axes = plt.gca()\n",
    "axes.set_ylim(-0.02,0.12)\n",
    "plt.show()"
   ]
  }
 ],
 "metadata": {
  "kernelspec": {
   "display_name": "Python 3",
   "language": "python",
   "name": "python3"
  },
  "language_info": {
   "codemirror_mode": {
    "name": "ipython",
    "version": 3
   },
   "file_extension": ".py",
   "mimetype": "text/x-python",
   "name": "python",
   "nbconvert_exporter": "python",
   "pygments_lexer": "ipython3",
   "version": "3.7.9"
  }
 },
 "nbformat": 4,
 "nbformat_minor": 4
}
